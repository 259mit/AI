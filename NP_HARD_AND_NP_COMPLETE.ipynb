{
  "nbformat": 4,
  "nbformat_minor": 0,
  "metadata": {
    "colab": {
      "name": "NP HARD AND NP COMPLETE.ipynb",
      "provenance": [],
      "collapsed_sections": [],
      "include_colab_link": true
    },
    "kernelspec": {
      "name": "python3",
      "display_name": "Python 3"
    }
  },
  "cells": [
    {
      "cell_type": "markdown",
      "metadata": {
        "id": "view-in-github",
        "colab_type": "text"
      },
      "source": [
        "<a href=\"https://colab.research.google.com/github/259mit/AI/blob/HOMEWORK/NP_HARD_AND_NP_COMPLETE.ipynb\" target=\"_parent\"><img src=\"https://colab.research.google.com/assets/colab-badge.svg\" alt=\"Open In Colab\"/></a>"
      ]
    },
    {
      "cell_type": "markdown",
      "metadata": {
        "id": "zHgvaKnsPHXq",
        "colab_type": "text"
      },
      "source": [
        "#**This Collaboratory is owned by Mithesh (J002) & Ujwal (J078)** \n",
        "\n",
        "##**This Collaboratory covers the solution for:**\n",
        "\n",
        "###**1) NP-Hard Problem: CVRP**\n",
        "\n",
        "###**2) NP-Complete Problem: Knapsnack**"
      ]
    },
    {
      "cell_type": "markdown",
      "metadata": {
        "id": "qYndC8ZDQAX0",
        "colab_type": "text"
      },
      "source": [
        "## **Solution of NP-Hard Problem: CVRP**\n",
        "\n"
      ]
    },
    {
      "cell_type": "markdown",
      "metadata": {
        "id": "DQU0AbW5Qeoa",
        "colab_type": "text"
      },
      "source": [
        "## CVRP"
      ]
    },
    {
      "cell_type": "code",
      "metadata": {
        "id": "CSu3ZaN9mncD",
        "colab_type": "code",
        "colab": {}
      },
      "source": [
        "pip install ortools #To install OR Tools"
      ],
      "execution_count": null,
      "outputs": []
    },
    {
      "cell_type": "code",
      "metadata": {
        "id": "tqprPPYymGRs",
        "colab_type": "code",
        "colab": {}
      },
      "source": [
        "#Importing different Important libraries\n",
        "from __future__ import print_function\n",
        "from ortools.constraint_solver import routing_enums_pb2\n",
        "from ortools.constraint_solver import pywrapcp"
      ],
      "execution_count": null,
      "outputs": []
    },
    {
      "cell_type": "code",
      "metadata": {
        "id": "LBr4rb0NHATd",
        "colab_type": "code",
        "colab": {}
      },
      "source": [
        "def create_data_model():\n",
        "    \"\"\"Stores the data for the problem.\"\"\"\n",
        "    data = {}\n",
        "    data['distance_matrix'] = [\n",
        "        [\n",
        "            0, 548, 776, 696, 582, 274, 502, 194, 308, 194, 536, 502, 388, 354,\n",
        "            468, 776, 662\n",
        "        ],\n",
        "        [\n",
        "            548, 0, 684, 308, 194, 502, 730, 354, 696, 742, 1084, 594, 480, 674,\n",
        "            1016, 868, 1210\n",
        "        ],\n",
        "        [\n",
        "            776, 684, 0, 992, 878, 502, 274, 810, 468, 742, 400, 1278, 1164,\n",
        "            1130, 788, 1552, 754\n",
        "        ],\n",
        "        [\n",
        "            696, 308, 992, 0, 114, 650, 878, 502, 844, 890, 1232, 514, 628, 822,\n",
        "            1164, 560, 1358\n",
        "        ],\n",
        "        [\n",
        "            582, 194, 878, 114, 0, 536, 764, 388, 730, 776, 1118, 400, 514, 708,\n",
        "            1050, 674, 1244\n",
        "        ],\n",
        "        [\n",
        "            274, 502, 502, 650, 536, 0, 228, 308, 194, 240, 582, 776, 662, 628,\n",
        "            514, 1050, 708\n",
        "        ],\n",
        "        [\n",
        "            502, 730, 274, 878, 764, 228, 0, 536, 194, 468, 354, 1004, 890, 856,\n",
        "            514, 1278, 480\n",
        "        ],\n",
        "        [\n",
        "            194, 354, 810, 502, 388, 308, 536, 0, 342, 388, 730, 468, 354, 320,\n",
        "            662, 742, 856\n",
        "        ],\n",
        "        [\n",
        "            308, 696, 468, 844, 730, 194, 194, 342, 0, 274, 388, 810, 696, 662,\n",
        "            320, 1084, 514\n",
        "        ],\n",
        "        [\n",
        "            194, 742, 742, 890, 776, 240, 468, 388, 274, 0, 342, 536, 422, 388,\n",
        "            274, 810, 468\n",
        "        ],\n",
        "        [\n",
        "            536, 1084, 400, 1232, 1118, 582, 354, 730, 388, 342, 0, 878, 764,\n",
        "            730, 388, 1152, 354\n",
        "        ],\n",
        "        [\n",
        "            502, 594, 1278, 514, 400, 776, 1004, 468, 810, 536, 878, 0, 114,\n",
        "            308, 650, 274, 844\n",
        "        ],\n",
        "        [\n",
        "            388, 480, 1164, 628, 514, 662, 890, 354, 696, 422, 764, 114, 0, 194,\n",
        "            536, 388, 730\n",
        "        ],\n",
        "        [\n",
        "            354, 674, 1130, 822, 708, 628, 856, 320, 662, 388, 730, 308, 194, 0,\n",
        "            342, 422, 536\n",
        "        ],\n",
        "        [\n",
        "            468, 1016, 788, 1164, 1050, 514, 514, 662, 320, 274, 388, 650, 536,\n",
        "            342, 0, 764, 194\n",
        "        ],\n",
        "        [\n",
        "            776, 868, 1552, 560, 674, 1050, 1278, 742, 1084, 810, 1152, 274,\n",
        "            388, 422, 764, 0, 798\n",
        "        ],\n",
        "        [\n",
        "            662, 1210, 754, 1358, 1244, 708, 480, 856, 514, 468, 354, 844, 730,\n",
        "            536, 194, 798, 0\n",
        "        ],\n",
        "    ]\n",
        "    data['demands'] = [0, 1, 1, 2, 4, 2, 4, 8, 8, 1, 2, 1, 2, 4, 4, 8, 8]   #Demands: Each location has a demand corresponding to the quantity—for example, weight or volume—of the item to be picked up.\n",
        "    data['vehicle_capacities'] = [15, 15, 15, 15]                           #Vehicle capacities: Each vehicle has a capacity: the maximum quantity that the vehicle can hold. As a vehicle travels along its route, the total quantity of the items it is carrying can never exceed its capacity.\n",
        "    data['num_vehicles'] = 4                                                #The number of vehicles in this problem          \n",
        "    data['depot'] = 0                                                       #Defining starting points \n",
        "    return data"
      ],
      "execution_count": null,
      "outputs": []
    },
    {
      "cell_type": "markdown",
      "metadata": {
        "id": "oyPpMPNiHjc2",
        "colab_type": "text"
      },
      "source": [
        "![Delivery Map](https://developers.google.com/optimization/images/routing/cvrp.svg)"
      ]
    },
    {
      "cell_type": "code",
      "metadata": {
        "id": "JgSNKOIDHPxN",
        "colab_type": "code",
        "colab": {}
      },
      "source": [
        "# The solution printer displays the route of each vehicle,\n",
        "#along with its cumulative load: the total amount the vehicle is carrying at stop on its routes.\n",
        "def print_solution(data, manager, routing, solution):\n",
        "    \"\"\"Prints solution on console.\"\"\"\n",
        "    total_distance = 0\n",
        "    total_load = 0\n",
        "    for vehicle_id in range(data['num_vehicles']):\n",
        "        index = routing.Start(vehicle_id)\n",
        "        plan_output = 'Route for vehicle {}:\\n'.format(vehicle_id)\n",
        "        route_distance = 0\n",
        "        route_load = 0\n",
        "        while not routing.IsEnd(index):\n",
        "            node_index = manager.IndexToNode(index)\n",
        "            route_load += data['demands'][node_index]\n",
        "            plan_output += ' {0} Load({1}) -> '.format(node_index, route_load)\n",
        "            previous_index = index\n",
        "            index = solution.Value(routing.NextVar(index))\n",
        "            route_distance += routing.GetArcCostForVehicle(\n",
        "                previous_index, index, vehicle_id)\n",
        "        plan_output += ' {0} Load({1})\\n'.format(manager.IndexToNode(index),\n",
        "                                                 route_load)\n",
        "        plan_output += 'Distance of the route: {}m\\n'.format(route_distance)\n",
        "        plan_output += 'Load of the route: {}\\n'.format(route_load)\n",
        "        print(plan_output)\n",
        "        total_distance += route_distance\n",
        "        total_load += route_load\n",
        "    print('Total distance of all routes: {}m'.format(total_distance))\n",
        "    print('Total load of all routes: {}'.format(total_load))"
      ],
      "execution_count": null,
      "outputs": []
    },
    {
      "cell_type": "code",
      "metadata": {
        "id": "I9kZubPIHaZ0",
        "colab_type": "code",
        "colab": {
          "base_uri": "https://localhost:8080/",
          "height": 391
        },
        "outputId": "8db56370-32de-4deb-a669-c5c0c252f203"
      },
      "source": [
        "#Main function also adds the demands and capacity dimension\n",
        "def main():\n",
        "    \"\"\"Solve the CVRP problem.\"\"\"\n",
        "    # Instantiate the data problem.\n",
        "    data = create_data_model()\n",
        "\n",
        "    # Create the routing index manager.\n",
        "    manager = pywrapcp.RoutingIndexManager(len(data['distance_matrix']),\n",
        "                                           data['num_vehicles'], data['depot'])\n",
        "\n",
        "    # Create Routing Model.\n",
        "    routing = pywrapcp.RoutingModel(manager)\n",
        "\n",
        "\n",
        "    # Create and register a transit callback.\n",
        "    # The distance callback—the function that returns the distance between any two locations\n",
        "    def distance_callback(from_index, to_index):\n",
        "        \"\"\"Returns the distance between the two nodes.\"\"\"\n",
        "        # Convert from routing variable Index to distance matrix NodeIndex.\n",
        "        from_node = manager.IndexToNode(from_index)\n",
        "        to_node = manager.IndexToNode(to_index)\n",
        "        return data['distance_matrix'][from_node][to_node]\n",
        "\n",
        "    transit_callback_index = routing.RegisterTransitCallback(distance_callback)\n",
        "\n",
        "    # Define cost of each arc.\n",
        "    routing.SetArcCostEvaluatorOfAllVehicles(transit_callback_index)\n",
        "\n",
        "   #Demand callback: Returns the demand at each location, and adds a dimension for the capacity constraints\n",
        "    def demand_callback(from_index):\n",
        "        \"\"\"Returns the demand of the node.\"\"\"\n",
        "        # Convert from routing variable Index to demands NodeIndex.\n",
        "        from_node = manager.IndexToNode(from_index)\n",
        "        return data['demands'][from_node]\n",
        "\n",
        "    demand_callback_index = routing.RegisterUnaryTransitCallback(\n",
        "        demand_callback)\n",
        "    routing.AddDimensionWithVehicleCapacity(\n",
        "        demand_callback_index,\n",
        "        0,  # null capacity slack\n",
        "        data['vehicle_capacities'],  # vehicle maximum capacities\n",
        "        True,  # start cumul to zero\n",
        "        'Capacity')\n",
        "\n",
        "    # Setting first solution heuristic.\n",
        "    search_parameters = pywrapcp.DefaultRoutingSearchParameters()\n",
        "    search_parameters.first_solution_strategy = (\n",
        "        routing_enums_pb2.FirstSolutionStrategy.PATH_CHEAPEST_ARC)\n",
        "\n",
        "    # Solve the problem.\n",
        "    solution = routing.SolveWithParameters(search_parameters)\n",
        "\n",
        "    # Print solution on console.\n",
        "    if solution:\n",
        "        print_solution(data, manager, routing, solution)\n",
        "\n",
        "\n",
        "if __name__ == '__main__':\n",
        "    main()"
      ],
      "execution_count": null,
      "outputs": [
        {
          "output_type": "stream",
          "text": [
            "Route for vehicle 0:\n",
            " 0 Load(0) ->  1 Load(1) ->  4 Load(5) ->  3 Load(7) ->  15 Load(15) ->  0 Load(15)\n",
            "Distance of the route: 2192m\n",
            "Load of the route: 15\n",
            "\n",
            "Route for vehicle 1:\n",
            " 0 Load(0) ->  14 Load(4) ->  16 Load(12) ->  10 Load(14) ->  2 Load(15) ->  0 Load(15)\n",
            "Distance of the route: 2192m\n",
            "Load of the route: 15\n",
            "\n",
            "Route for vehicle 2:\n",
            " 0 Load(0) ->  7 Load(8) ->  13 Load(12) ->  12 Load(14) ->  11 Load(15) ->  0 Load(15)\n",
            "Distance of the route: 1324m\n",
            "Load of the route: 15\n",
            "\n",
            "Route for vehicle 3:\n",
            " 0 Load(0) ->  9 Load(1) ->  8 Load(9) ->  6 Load(13) ->  5 Load(15) ->  0 Load(15)\n",
            "Distance of the route: 1164m\n",
            "Load of the route: 15\n",
            "\n",
            "Total distance of all routes: 6872m\n",
            "Total load of all routes: 60\n"
          ],
          "name": "stdout"
        }
      ]
    },
    {
      "cell_type": "markdown",
      "metadata": {
        "id": "5xHAJ5hLH15V",
        "colab_type": "text"
      },
      "source": [
        "![Optimized route](https://developers.google.com/optimization/images/routing/cvrp_solution.svg)"
      ]
    },
    {
      "cell_type": "markdown",
      "metadata": {
        "id": "5Z2AwHFzQKZD",
        "colab_type": "text"
      },
      "source": [
        "##**Solution of NP-Complete Problem: Knapsnack**"
      ]
    },
    {
      "cell_type": "markdown",
      "metadata": {
        "id": "4N_t5L-xPFrt",
        "colab_type": "text"
      },
      "source": [
        "Now there are two main ways to go about the problem:\n",
        "1. Recursion\n",
        "2. Dynamic Programming"
      ]
    },
    {
      "cell_type": "markdown",
      "metadata": {
        "id": "Tlipn3u6POOq",
        "colab_type": "text"
      },
      "source": [
        "### Recursion"
      ]
    },
    {
      "cell_type": "code",
      "metadata": {
        "id": "ivLFgjy1QOlG",
        "colab_type": "code",
        "colab": {
          "base_uri": "https://localhost:8080/",
          "height": 34
        },
        "outputId": "adc54b04-f210-48a8-efb0-d0d83aa2a863"
      },
      "source": [
        "# of 0-1 Knapsack Problem \n",
        "# Binary knapsack problems are NP-Complete. 0 and 1 represent whether or not the weight will be included in the knapsack or not. \n",
        "  \n",
        "# Returns the maximum value that can be put in a knapsack of capacity W \n",
        "def knapSack(W, wt, val, n): \n",
        "  \n",
        "    # Base Case \n",
        "    if n == 0 or W == 0 :                  # If no value of weights then return the result =0\n",
        "        return 0\n",
        "  \n",
        "    # If weight of the nth item is  \n",
        "    # more than Knapsack of capacity W,  \n",
        "    # then this item cannot be included  \n",
        "    # in the optimal solution \n",
        "    if (wt[n-1] > W): \n",
        "        return knapSack(W, wt, val, n-1) \n",
        "  \n",
        "    # return the maximum of two cases: \n",
        "    # (1) nth item included \n",
        "    # (2) not included \n",
        "    else: \n",
        "        return max( \n",
        "            val[n-1] + knapSack( \n",
        "                W-wt[n-1], wt, val, n-1),  \n",
        "                knapSack(W, wt, val, n-1)) \n",
        "  \n",
        "# end of function knapSack \n",
        "  \n",
        "# To test above function \n",
        "wt = [10, 20, 30]                           # Weights in the problem statement\n",
        "val = [60, 100, 120]                        # Values of the above given weights\n",
        "W = 50                                      # Maximum Weight Supported /Allowed \n",
        "n = len(val)                                # Total no.of weights in the problem \n",
        "print(knapSack(W, wt, val, n) )             # Prints the optimal result which maximizes the objectives of the problem"
      ],
      "execution_count": null,
      "outputs": [
        {
          "output_type": "stream",
          "text": [
            "220\n"
          ],
          "name": "stdout"
        }
      ]
    },
    {
      "cell_type": "markdown",
      "metadata": {
        "id": "grUwIdDjPUs6",
        "colab_type": "text"
      },
      "source": [
        "#### Output: 220, i.e. maximum possible allowed value in the knapsack with weight limit 50."
      ]
    },
    {
      "cell_type": "markdown",
      "metadata": {
        "id": "wST_kYfbPjrG",
        "colab_type": "text"
      },
      "source": [
        "### Dynamic Programming"
      ]
    },
    {
      "cell_type": "code",
      "metadata": {
        "id": "nPQK36viPrrt",
        "colab_type": "code",
        "colab": {
          "base_uri": "https://localhost:8080/",
          "height": 34
        },
        "outputId": "ed8863ef-8b47-4073-b4ed-194d7301d431"
      },
      "source": [
        "# A Dynamic Programming based Python  \n",
        "# Program for 0-1 Knapsack problem \n",
        "# Returns the maximum value that can be put in a knapsack of capacity W \n",
        "# Binary knapsack problems are NP-Complete. 0 and 1 represent whether or not the weight will be included in the knapsack or not. \n",
        "\n",
        "def knapSack(values, weights, capacity):\n",
        "  # basic checks\n",
        "  n = len(values)\n",
        "  if capacity <= 0 or n == 0 or len(weights) != n:\n",
        "    return 0\n",
        "\n",
        "  dp = [[0 for x in range(capacity+1)] for y in range(n)]\n",
        "\n",
        "  # populate the capacity = 0 columns, with '0' capacity we have '0' value\n",
        "  for i in range(0, n):\n",
        "    dp[i][0] = 0\n",
        "\n",
        "  # if we have only one weight, we will take it if it is not more than the capacity\n",
        "  for c in range(0, capacity+1):\n",
        "    if weights[0] <= c:\n",
        "      dp[0][c] = values[0]\n",
        "\n",
        "  # process all sub-arrays for all the capacities\n",
        "  for i in range(1, n):\n",
        "    for c in range(1, capacity+1):\n",
        "      value1, value2 = 0, 0\n",
        "      # include the item, if it is not more than the capacity\n",
        "      if weights[i] <= c:\n",
        "        value1 = values[i] + dp[i - 1][c - weights[i]]\n",
        "      # exclude the item\n",
        "      value2 = dp[i - 1][c]\n",
        "      # take maximum\n",
        "      dp[i][c] = max(value1, value2)\n",
        "\n",
        "  # maximum value will be at the bottom-right corner.\n",
        "  return dp[n - 1][capacity]\n",
        "\n",
        "  \n",
        "# Driver program to test above function \n",
        "val = [60, 100, 120]                         # Values of the above given weights\n",
        "wt = [10, 20, 30]                            # Weights in the problem statement\n",
        "capacity = 50                                       # Maximum Weight Supported /Allowed \n",
        "print(knapSack(val, wt, capacity))               # Prints the optimal result which maximizes the objectives of the problem"
      ],
      "execution_count": null,
      "outputs": [
        {
          "output_type": "stream",
          "text": [
            "220\n"
          ],
          "name": "stdout"
        }
      ]
    },
    {
      "cell_type": "markdown",
      "metadata": {
        "id": "kV52yIIbQIKJ",
        "colab_type": "text"
      },
      "source": [
        "#### Output: 220, i.e. maximum possible allowed value in the knapsack with weight limit 50."
      ]
    }
  ]
}