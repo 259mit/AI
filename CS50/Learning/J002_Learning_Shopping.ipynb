{
  "nbformat": 4,
  "nbformat_minor": 0,
  "metadata": {
    "kernelspec": {
      "display_name": "Python 3",
      "language": "python",
      "name": "python3"
    },
    "language_info": {
      "codemirror_mode": {
        "name": "ipython",
        "version": 3
      },
      "file_extension": ".py",
      "mimetype": "text/x-python",
      "name": "python",
      "nbconvert_exporter": "python",
      "pygments_lexer": "ipython3",
      "version": "3.7.6"
    },
    "colab": {
      "name": "J002_Learning_Shopping.ipynb",
      "provenance": [],
      "include_colab_link": true
    }
  },
  "cells": [
    {
      "cell_type": "markdown",
      "metadata": {
        "id": "view-in-github",
        "colab_type": "text"
      },
      "source": [
        "<a href=\"https://colab.research.google.com/github/259mit/AI/blob/master/CS50/Learning/J002_Learning_Shopping.ipynb\" target=\"_parent\"><img src=\"https://colab.research.google.com/assets/colab-badge.svg\" alt=\"Open In Colab\"/></a>"
      ]
    },
    {
      "cell_type": "markdown",
      "metadata": {
        "id": "dicPYvwyTuz4"
      },
      "source": [
        "# Shopping Project"
      ]
    },
    {
      "cell_type": "markdown",
      "metadata": {
        "id": "K9hb0kDMTuz6"
      },
      "source": [
        "#### Mithesh Ramachandran\n",
        "#### J002\n",
        "#### B. Tech Data Science 3rd Year\n",
        "#### Artificial Intelligence"
      ]
    },
    {
      "cell_type": "markdown",
      "metadata": {
        "id": "rwYZuq6aTuz8"
      },
      "source": [
        "## Import Libraries"
      ]
    },
    {
      "cell_type": "code",
      "metadata": {
        "id": "SW2I6WpyTuz-"
      },
      "source": [
        "import csv\n",
        "import sys\n",
        "from sklearn.model_selection import train_test_split\n",
        "from sklearn.neighbors import KNeighborsClassifier\n",
        "import numpy as np\n",
        "import pandas as pd\n",
        "from pandas import DataFrame as dframe"
      ],
      "execution_count": null,
      "outputs": []
    },
    {
      "cell_type": "markdown",
      "metadata": {
        "id": "hCeJQ1rJTu0E"
      },
      "source": [
        "#### Define Test Size"
      ]
    },
    {
      "cell_type": "code",
      "metadata": {
        "id": "Cgy225gJTu0F"
      },
      "source": [
        "TEST_SIZE = 0.4"
      ],
      "execution_count": null,
      "outputs": []
    },
    {
      "cell_type": "markdown",
      "metadata": {
        "id": "4cIhbHLdTu0K"
      },
      "source": [
        "## Define Main Function"
      ]
    },
    {
      "cell_type": "code",
      "metadata": {
        "id": "zJh-dHQdTu0L"
      },
      "source": [
        "def main():\n",
        "    \n",
        "    # Load data from spreadsheet and split into train and test sets\n",
        "    evidence, labels = load_data(sys.argv[1])\n",
        "    X_train, X_test, y_train, y_test = train_test_split(evidence, labels, test_size=TEST_SIZE)\n",
        "    # Train model and make predictions\n",
        "    model = train_model(X_train, y_train)\n",
        "    predictions = model.predict(X_test)\n",
        "    sensitivity, specificity = evaluate(y_test, predictions)\n",
        "\n",
        "    # Print results\n",
        "    print(f\"Correct: {(y_test == predictions).sum()}\")\n",
        "    print(f\"Incorrect: {(y_test != predictions).sum()}\")\n",
        "    print(f\"True Positive Rate: {100 * sensitivity:.2f}%\")\n",
        "    print(f\"True Negative Rate: {100 * specificity:.2f}%\")"
      ],
      "execution_count": null,
      "outputs": []
    },
    {
      "cell_type": "markdown",
      "metadata": {
        "id": "8TiHV3dCTu0P"
      },
      "source": [
        "## Define function to load data"
      ]
    },
    {
      "cell_type": "code",
      "metadata": {
        "id": "8KuIlq5VTu0Q"
      },
      "source": [
        "def load_data(filename):\n",
        "    \"\"\"\n",
        "    Load shopping data from a CSV file `filename` and convert into a list of\n",
        "    evidence lists and a list of labels. Return a tuple (evidence, labels).\n",
        "\n",
        "    evidence should be a list of lists, where each list contains the\n",
        "    following values, in order:\n",
        "        - Administrative, an integer\n",
        "        - Administrative_Duration, a floating point number\n",
        "        - Informational, an integer\n",
        "        - Informational_Duration, a floating point number\n",
        "        - ProductRelated, an integer\n",
        "        - ProductRelated_Duration, a floating point number\n",
        "        - BounceRates, a floating point number\n",
        "        - ExitRates, a floating point number\n",
        "        - PageValues, a floating point number\n",
        "        - SpecialDay, a floating point number\n",
        "        - Month, an index from 0 (January) to 11 (December)\n",
        "        - OperatingSystems, an integer\n",
        "        - Browser, an integer\n",
        "        - Region, an integer\n",
        "        - TrafficType, an integer\n",
        "        - VisitorType, an integer 0 (not returning) or 1 (returning)\n",
        "        - Weekend, an integer 0 (if false) or 1 (if true)\n",
        "\n",
        "    labels should be the corresponding list of labels, where each label\n",
        "    is 1 if Revenue is true, and 0 otherwise.\n",
        "    \"\"\"\n",
        "    import numpy as np\n",
        "    import pandas as pd\n",
        "    filename = pd.read_csv('/Users/home/Downloads/shopping/shopping.csv')\n",
        "    df = filename\n",
        "    month = { 'Feb': 1, 'Mar': 2, 'May': 4, 'June':5, 'Jul':6, 'Aug':7, 'Sep': 8, 'Oct':9, 'Nov': 10, 'Dec': 11}\n",
        "    df.Month = [month[item] for item in df.Month]\n",
        "    vistype = { 'Returning_Visitor': 1, 'New_Visitor': 0, 'Other':0 }\n",
        "    df.VisitorType = [vistype[item] for item in df.VisitorType]\n",
        "    df['Weekend'] = df['Weekend']*1\n",
        "    df['Revenue'] = df['Revenue']*1\n",
        "    \n",
        "    evidence = df.drop(columns = 'Revenue')\n",
        "    \n",
        "    Administrative = np.array(evidence['Administrative'], dtype = int)\n",
        "    Administrative_Duration = np.array(evidence['Administrative_Duration'])\n",
        "    Informational = np.array(evidence['Informational'], dtype = int)\n",
        "    Informational_Duration = np.array(evidence['Informational_Duration'])\n",
        "    ProductRelated = np.array(evidence['ProductRelated'], dtype = int)\n",
        "    ProductRelated_Duration = np.array(evidence['ProductRelated_Duration'])\n",
        "    BounceRates = np.array(evidence['BounceRates'])\n",
        "    ExitRates = np.array(evidence['ExitRates'])\n",
        "    PageValues = np.array(evidence['PageValues'])\n",
        "    SpecialDay = np.array(evidence['SpecialDay'])\n",
        "    Month = np.array(evidence['Month'], dtype = int)\n",
        "    OperatingSystems = np.array(evidence['OperatingSystems'], dtype = int)\n",
        "    Browser = np.array(evidence['Browser'], dtype = int)\n",
        "    Region = np.array(evidence['Region'], dtype = int)\n",
        "    TrafficType = np.array(evidence['TrafficType'], dtype = int)\n",
        "    VisitorType = np.array(evidence['VisitorType'], dtype = int)\n",
        "    Weekend = np.array(evidence['Weekend'], dtype = int)\n",
        "    \n",
        "    evidence = np.array([Administrative, Administrative_Duration, Informational,Informational_Duration, ProductRelated, ProductRelated_Duration, BounceRates, ExitRates, PageValues, SpecialDay, Month, OperatingSystems, Browser, Region, TrafficType, VisitorType, Weekend], dtype = object).T.tolist()\n",
        "    \n",
        "    labels = df['Revenue'].tolist()\n",
        "    \n",
        "    return (evidence, labels)\n",
        "    raise NotImplementedError"
      ],
      "execution_count": null,
      "outputs": []
    },
    {
      "cell_type": "markdown",
      "metadata": {
        "id": "oJJ_DL0VTu0V"
      },
      "source": [
        "## Define function to train model"
      ]
    },
    {
      "cell_type": "code",
      "metadata": {
        "id": "Msn1tbqvTu0W"
      },
      "source": [
        "def train_model(X_train, y_train):\n",
        "    \"\"\"\n",
        "    Given a list of evidence lists and a list of labels, return a\n",
        "    fitted k-nearest neighbor model (k=1) trained on the data.\n",
        "    \"\"\"\n",
        "    from sklearn.neighbors import KNeighborsClassifier\n",
        "    model = KNeighborsClassifier(n_neighbors = 1)\n",
        "    model = model.fit(X_train, y_train)\n",
        "    return model\n",
        "    raise NotImplementedError"
      ],
      "execution_count": null,
      "outputs": []
    },
    {
      "cell_type": "markdown",
      "metadata": {
        "id": "z_5-MB2dTu0a"
      },
      "source": [
        "## Define function to evaluate model"
      ]
    },
    {
      "cell_type": "code",
      "metadata": {
        "id": "hrpW0BTITu0a"
      },
      "source": [
        "def evaluate(y_test, predictions):    \n",
        "    \"\"\"\n",
        "    Given a list of actual labels and a list of predicted labels,\n",
        "    return a tuple (sensitivity, specificty).\n",
        "\n",
        "    Assume each label is either a 1 (positive) or 0 (negative).\n",
        "\n",
        "    `sensitivity` should be a floating-point value from 0 to 1\n",
        "    representing the \"true positive rate\": the proportion of\n",
        "    actual positive labels that were accurately identified.\n",
        "\n",
        "    `specificity` should be a floating-point value from 0 to 1\n",
        "    representing the \"true negative rate\": the proportion of\n",
        "    actual negative labels that were accurately identified.\n",
        "    \"\"\"\n",
        "    from sklearn.metrics import confusion_matrix\n",
        "    result = confusion_matrix(y_test, predictions)\n",
        "    specificity= result[0,0]/(result[0,0]+result[1,0])\n",
        "    sensitivity= result[1,1]/(result[1,1]+result[0,1])\n",
        "    return sensitivity,specificity\n",
        "    \n",
        "    raise NotImplementedError"
      ],
      "execution_count": null,
      "outputs": []
    },
    {
      "cell_type": "markdown",
      "metadata": {
        "id": "8t6nbM1fTu0g"
      },
      "source": [
        "## Run the main function"
      ]
    },
    {
      "cell_type": "code",
      "metadata": {
        "id": "5NDjHFPcTu0i",
        "outputId": "926db4c6-550e-4d69-d212-1961f130a426"
      },
      "source": [
        "main()"
      ],
      "execution_count": null,
      "outputs": [
        {
          "output_type": "stream",
          "text": [
            "Correct: 4070\n",
            "Incorrect: 862\n",
            "True Positive Rate: 45.36%\n",
            "True Negative Rate: 88.34%\n"
          ],
          "name": "stdout"
        }
      ]
    },
    {
      "cell_type": "markdown",
      "metadata": {
        "id": "b8vl-xpTTu0l"
      },
      "source": [
        "## Record results after every run, four times"
      ]
    },
    {
      "cell_type": "markdown",
      "metadata": {
        "id": "YdT-F50zTu0m"
      },
      "source": [
        "## First run\n",
        "\n",
        "Correct: 4070\n",
        "\n",
        "Incorrect: 862\n",
        "\n",
        "True Positive Rate: 46.28%\n",
        "\n",
        "True Negative Rate: 87.98%"
      ]
    },
    {
      "cell_type": "markdown",
      "metadata": {
        "id": "XqEUmAKSTu0n"
      },
      "source": [
        "## Second run\n",
        "\n",
        "Correct: 4116\n",
        "    \n",
        "Incorrect: 816\n",
        "    \n",
        "True Positive Rate: 44.33%\n",
        "    \n",
        "True Negative Rate: 89.70%"
      ]
    },
    {
      "cell_type": "markdown",
      "metadata": {
        "id": "OHvGX1GgTu0n"
      },
      "source": [
        "## Third run\n",
        "\n",
        "Correct: 4109\n",
        "    \n",
        "Incorrect: 823\n",
        "    \n",
        "True Positive Rate: 44.85%\n",
        "    \n",
        "True Negative Rate: 89.56%"
      ]
    },
    {
      "cell_type": "markdown",
      "metadata": {
        "id": "CrYFvMBdTu0o"
      },
      "source": [
        "## Fourth run\n",
        "\n",
        "Correct: 4115\n",
        "    \n",
        "Incorrect: 817\n",
        "    \n",
        "True Positive Rate: 45.44%\n",
        "    \n",
        "True Negative Rate: 89.40%"
      ]
    }
  ]
}