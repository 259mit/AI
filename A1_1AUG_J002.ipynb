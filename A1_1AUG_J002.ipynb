{
  "nbformat": 4,
  "nbformat_minor": 0,
  "metadata": {
    "colab": {
      "name": "A1_1AUG_J002.ipynb",
      "provenance": [],
      "collapsed_sections": [],
      "authorship_tag": "ABX9TyO/pn0RXzsrVGTotwc2DxtY",
      "include_colab_link": true
    },
    "kernelspec": {
      "name": "python3",
      "display_name": "Python 3"
    }
  },
  "cells": [
    {
      "cell_type": "markdown",
      "metadata": {
        "id": "view-in-github",
        "colab_type": "text"
      },
      "source": [
        "<a href=\"https://colab.research.google.com/github/259mit/AI/blob/HOMEWORK/A1_1AUG_J002.ipynb\" target=\"_parent\"><img src=\"https://colab.research.google.com/assets/colab-badge.svg\" alt=\"Open In Colab\"/></a>"
      ]
    },
    {
      "cell_type": "markdown",
      "metadata": {
        "id": "F56ZuKDZelkN",
        "colab_type": "text"
      },
      "source": [
        "##J002"
      ]
    },
    {
      "cell_type": "markdown",
      "metadata": {
        "id": "TNtJnnzPP0l-",
        "colab_type": "text"
      },
      "source": [
        "###Sherlock and Cost"
      ]
    },
    {
      "cell_type": "code",
      "metadata": {
        "id": "X9DkyI3zPx_w",
        "colab_type": "code",
        "colab": {
          "base_uri": "https://localhost:8080/",
          "height": 85
        },
        "outputId": "ae02bb7d-db2c-40e1-90af-d00c0023a7e3"
      },
      "source": [
        "#Taking an example array\n",
        "b = [6,4,7]\n",
        "#Initialising two variables, one that deals with consecutive elements\n",
        "max_i=0\n",
        "#the other that deals with 1 minus the number\n",
        "max_1=0\n",
        "#Start the loop to pass element with index [i] of the array\n",
        "for i in range(1,len(b)): \n",
        "    #loop starting from 1, as b[i-1] covers the zeroeth element.\n",
        "    curr, prev = b[i], b[i-1]\n",
        "    #This deals with comparing the sum of existing elements of the array and 1 - current element\n",
        "    new_max_i = max(max_i + abs(curr - prev), max_1 + (curr - 1))\n",
        "    #This deals with comparing 1 - [i] index of the array\n",
        "    \n",
        "    # for (1,x,1): max: 1,x,1 as sum of 1 - x and x-1 give max values\n",
        "    # for (a,b,c) if(a&c>b): max: a,1,c as sum of a-1 and c-1 give max values\n",
        "    \n",
        "    new_max_1 = max(max_i + abs(1 - prev), max_1)\n",
        "    #updating values\n",
        "    max_i, max_1 = new_max_i, new_max_1\n",
        "    \n",
        "# In this case [6,4,7], as [a,b,c], b<a&c so max: sum of a-1 and c-1: 6-1 and 7-1 = 5+6=11\n",
        "print(max_i)\n",
        "print(max_1)\n",
        "print('answer:')\n",
        "print(max(max_i,max_1))"
      ],
      "execution_count": 11,
      "outputs": [
        {
          "output_type": "stream",
          "text": [
            "11\n",
            "6\n",
            "answer:\n",
            "11\n"
          ],
          "name": "stdout"
        }
      ]
    },
    {
      "cell_type": "markdown",
      "metadata": {
        "id": "QzJhjbg-Rgrh",
        "colab_type": "text"
      },
      "source": [
        "###Postal Code"
      ]
    },
    {
      "cell_type": "code",
      "metadata": {
        "id": "A8-VhlNxRfzo",
        "colab_type": "code",
        "colab": {
          "base_uri": "https://localhost:8080/",
          "height": 51
        },
        "outputId": "8664ca7c-a3c7-4f4b-e166-806382cf74ce"
      },
      "source": [
        "\n",
        "regex_integer_in_range = r'^[1-9][\\d]{5}$'  # Do not delete 'r'.\n",
        "#sq. Bracket 1 checks if first number is between 1 to 9\n",
        "#sq. Bracket 2 checks if the number is a digit or not\n",
        "#Curly braces check so that the above rule be executed 5 args times i.e., {args}, in this case 5\n",
        "# sq. Bracket 1 + 5 times sq.Bracket 2 = 6 digits\n",
        "regex_alternating_repetitive_digit_pair = r'(\\d)(?=\\d\\1)'  # Do not delete 'r'.\n",
        "# (?=\\d\\1) checks is the digits are repeated alternate times.\n",
        "\n",
        "import re\n",
        "P = input()\n",
        "\n",
        "print (bool(re.match(regex_integer_in_range, P)) \n",
        "and len(re.findall(regex_alternating_repetitive_digit_pair, P)) < 2)"
      ],
      "execution_count": 15,
      "outputs": [
        {
          "output_type": "stream",
          "text": [
            "121001\n",
            "True\n"
          ],
          "name": "stdout"
        }
      ]
    },
    {
      "cell_type": "markdown",
      "metadata": {
        "id": "K5ylGWTKRrOc",
        "colab_type": "text"
      },
      "source": [
        "###Coins Change"
      ]
    },
    {
      "cell_type": "code",
      "metadata": {
        "id": "9gCJnlQARtgD",
        "colab_type": "code",
        "colab": {
          "base_uri": "https://localhost:8080/",
          "height": 68
        },
        "outputId": "e1267734-6171-4b19-d8f6-2ed23e572b95"
      },
      "source": [
        "(m, n) = input().split() # m = amount for change. n = number of denominations\n",
        "m = int(m)\n",
        "n = int(n)\n",
        "coins = list(map(int,input().split())) # denominations\n",
        "coins.sort() # arrange denominations in ascending order\n",
        "nways = [0]* (m+1) #assigning the array so that ways are calculated till m.\n",
        "nways[0]=1 # assigning first element to 1 as taking no coins is also a way.\n",
        "for x in range(0, n):\n",
        "    for y in range(coins[x], m+1): #till m is reached starting from 0..10 , 1..10 , 2..10 to n..10\n",
        "    #Trying permutations with each denomination and combinations of denominations taken together.\n",
        "        nways[y] = nways[y]+ nways[y-coins[x]] #to get Different combinations \n",
        "        # till nways[m] is reached. where loop stops. \n",
        "        #prints final value\n",
        "print(nways[m])"
      ],
      "execution_count": 20,
      "outputs": [
        {
          "output_type": "stream",
          "text": [
            "10 3\n",
            "1 2 5\n",
            "10\n"
          ],
          "name": "stdout"
        }
      ]
    },
    {
      "cell_type": "markdown",
      "metadata": {
        "id": "lxF_-ixBfBE2",
        "colab_type": "text"
      },
      "source": [
        "# THEORETICAL CONCEPT:\n",
        "\n",
        "\n",
        "## Okay so let's take an example of the Indian 10 rupee note.\n",
        "So I need to give AI sir the change for 10 rupees but I have coins in denominations of 1, 2 and 5 rupees. I have them in infinite quantity. So all I must do is calcuolate the possible combinations in which i can give him change.\n",
        "\n",
        "## 1, 2 and 5 rupee coins\n",
        "\n",
        "### ONLY 1,2 and 5 rupee coins (individually) \n",
        "10 One rupee coins are required to total 10 rupees. = 1 WAY\n",
        "5 two rupee coins are required. = 1 WAY\n",
        "2 Five rupee coins are required. = 1 WAY\n",
        "\n",
        "= 3 WAYS\n",
        "\n",
        "### Combinations:\n",
        "#### 1 and 2: \n",
        "8.1 + 1.2\n",
        "6.1 +2.2\n",
        "4.1 +3.2\n",
        "2.1 +1.2\n",
        " \n",
        "= 4 WAYS\n",
        "\n",
        "#### 1 and 5:\n",
        "5.1 + 1.5 = 1 WAY\n",
        "\n",
        "#### 2 and 5:\n",
        "NO WAY\n",
        "\n",
        "#### 1, 2 and 5 all together:\n",
        "1.5 + 3.1 + 1.2 = 1 WAY\n",
        "1.5 + 1.1 + 2.2 = 1 WAY \n",
        "\n",
        "2 WAYS\n",
        "\n",
        "= 3+4+1+2 = 10 WAYS\n",
        "\n",
        "\n",
        "\n",
        "\n"
      ]
    }
  ]
}