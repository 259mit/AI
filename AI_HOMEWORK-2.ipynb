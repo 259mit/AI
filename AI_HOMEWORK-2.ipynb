{
  "nbformat": 4,
  "nbformat_minor": 0,
  "metadata": {
    "colab": {
      "name": "AI HOMEWORK",
      "provenance": []
    },
    "kernelspec": {
      "name": "python3",
      "display_name": "Python 3"
    }
  },
  "cells": [
    {
      "cell_type": "code",
      "metadata": {
        "id": "wPS266dLFof4",
        "colab_type": "code",
        "colab": {}
      },
      "source": [
        "#DIVISION\n",
        "a = int(input())\n",
        "b = int(input())\n",
        "print(a//b)\n",
        "print(float(a/b))\n"
      ],
      "execution_count": null,
      "outputs": []
    },
    {
      "cell_type": "code",
      "metadata": {
        "id": "jCItBcKeHPoh",
        "colab_type": "code",
        "colab": {}
      },
      "source": [
        "\n",
        "#ARITHMETIC OPERATORS:\n",
        "a = int(input())\n",
        "b = int(input())\n",
        "\n",
        "print(a+b)\n",
        "print(abs(a-b))\n",
        "print(a*b)\n"
      ],
      "execution_count": null,
      "outputs": []
    },
    {
      "cell_type": "code",
      "metadata": {
        "id": "dn37w9ltHSWu",
        "colab_type": "code",
        "colab": {}
      },
      "source": [
        "\n",
        "#LIST\n",
        "if __name__ == '__main__':\n",
        "    x = int(input())\n",
        "    y = int(input())\n",
        "    z = int(input())\n",
        "    n = int(input())\n",
        "    array = [[i, j, k] for i in range(0, x+1) for j in range(0, y+1) for k in range(0, z+1) if i+j+k !=n]\n",
        "    print(array)\n"
      ],
      "execution_count": null,
      "outputs": []
    },
    {
      "cell_type": "code",
      "metadata": {
        "id": "hkoeUtuQHUtf",
        "colab_type": "code",
        "colab": {}
      },
      "source": [
        "\n",
        "#PRINT\n",
        "n = int(input())\n",
        "print(*range(1, n+1), sep=\"\")\n",
        "\n"
      ],
      "execution_count": null,
      "outputs": []
    },
    {
      "cell_type": "code",
      "metadata": {
        "id": "Jk2U8vDzHW0W",
        "colab_type": "code",
        "colab": {}
      },
      "source": [
        "#LOOPS\n",
        "n = int(input())\n",
        "if n in range(1,21):\n",
        "    for i in range(0,n):\n",
        "        print(i**2)\n",
        "\n"
      ],
      "execution_count": null,
      "outputs": []
    },
    {
      "cell_type": "code",
      "metadata": {
        "id": "Wstso2Q1HYAb",
        "colab_type": "code",
        "colab": {}
      },
      "source": [
        "#IF-ELSE\n",
        "#!/bin/python\n",
        "\n",
        "num = int(input())\n",
        "if num in range(1,101):\n",
        "    if num%2 != 0:\n",
        "        print(\"Weird\")\n",
        "    else:\n",
        "        if (num>=2 and num<=5):\n",
        "            print(\"Not Weird\")\n",
        "        elif (num>=6 and num<=20):\n",
        "            print(\"Weird\")\n",
        "        elif num>=20:\n",
        "            print(\"Not Weird\")\n",
        "else:\n",
        "    print(\"Out of Range\")"
      ],
      "execution_count": null,
      "outputs": []
    }
  ]
}