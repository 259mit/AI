{
  "nbformat": 4,
  "nbformat_minor": 0,
  "metadata": {
    "colab": {
      "name": "AUG1_CW_J002.ipynb",
      "provenance": [],
      "collapsed_sections": [],
      "authorship_tag": "ABX9TyMOSc1VppFMEKZRj9iFoWKx",
      "include_colab_link": true
    },
    "kernelspec": {
      "name": "python3",
      "display_name": "Python 3"
    }
  },
  "cells": [
    {
      "cell_type": "markdown",
      "metadata": {
        "id": "view-in-github",
        "colab_type": "text"
      },
      "source": [
        "<a href=\"https://colab.research.google.com/github/259mit/AI/blob/CLASSWORK/AUG1_CW_J002.ipynb\" target=\"_parent\"><img src=\"https://colab.research.google.com/assets/colab-badge.svg\" alt=\"Open In Colab\"/></a>"
      ]
    },
    {
      "cell_type": "code",
      "metadata": {
        "id": "2N_B0RFrWUI7",
        "colab_type": "code",
        "colab": {}
      },
      "source": [
        "def fact_simple(x):\n",
        "  if x < 0:\n",
        "    print(\"not exists\")\n",
        "  elif x == 0:\n",
        "    print(1)\n",
        "  else:\n",
        "    fact=1\n",
        "    for i in range(1,1+x):\n",
        "      fact=fact*i \n",
        "  print(fact)\n",
        "def factorial_recursion(x):\n",
        "    factor=1\n",
        "    if (x==0):\n",
        "        return factor\n",
        "    else:\n",
        "        return x*factorial_recursion(x-1)\n"
      ],
      "execution_count": null,
      "outputs": []
    },
    {
      "cell_type": "code",
      "metadata": {
        "id": "oANuohuJYpYB",
        "colab_type": "code",
        "colab": {}
      },
      "source": [
        "fact_simple(10)"
      ],
      "execution_count": null,
      "outputs": []
    },
    {
      "cell_type": "code",
      "metadata": {
        "id": "C6MQc-IAYrsP",
        "colab_type": "code",
        "colab": {}
      },
      "source": [
        "def fibonacci_series(n):\n",
        "  if n < 0:\n",
        "    print(\"not valid\")\n",
        "  elif n == 0:\n",
        "    return 0\n",
        "  elif n == 1:\n",
        "    return 1\n",
        "  else:\n",
        "    return fibonacci_series(n-1)+fibonacci_series(n-2)\n"
      ],
      "execution_count": null,
      "outputs": []
    },
    {
      "cell_type": "code",
      "metadata": {
        "id": "YuokvwehYtug",
        "colab_type": "code",
        "colab": {}
      },
      "source": [
        "n=int(input(\"Enter the no. of terms:\")) \n",
        "  \n",
        "if n<=0:\n",
        "  print(\"entered number is not valid.\")  \n",
        "else:  \n",
        "   print(\"Fibonacci sequence is:\")  \n",
        "   for i in range(n):  \n",
        "       print(fibonacci_series(i))"
      ],
      "execution_count": null,
      "outputs": []
    },
    {
      "cell_type": "code",
      "metadata": {
        "id": "iLx611wNYwYX",
        "colab_type": "code",
        "colab": {}
      },
      "source": [
        "#Binary search\n",
        "list=[25,5342,2648,21,5449]\n",
        "\n",
        "list1=list.copy().sort()\n",
        "\n",
        "list1"
      ],
      "execution_count": null,
      "outputs": []
    },
    {
      "cell_type": "markdown",
      "metadata": {
        "id": "qAq4OuKSY09W",
        "colab_type": "text"
      },
      "source": [
        "###TO READ\n",
        "Tractable- PTIME (Polynomial Time Solvable)\n",
        "Polynomial - expression where each term is n^k where k can be any whole number\n",
        "Polynomial Runtime - Runtime of the code should be a polynomial. polynomial of degree k where k is a constant, and since it is time n cannot be negative n: input space or dimension eg. O(n^4) n=1 => 1 n=2 => 2^4 n=3 => 3^4 n=4 => 4^4\n",
        "O(n!) nn-1n-2n-3n-4n-5n-6 => It is not a polynomial - Non Polynomial Time (NP)"
      ]
    }
  ]
}