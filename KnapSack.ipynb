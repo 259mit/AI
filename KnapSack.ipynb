{
  "nbformat": 4,
  "nbformat_minor": 0,
  "metadata": {
    "colab": {
      "name": "KnapSack.ipynb",
      "provenance": [],
      "collapsed_sections": [],
      "authorship_tag": "ABX9TyPczd/vDKMcUJXkZ/WnZw4k",
      "include_colab_link": true
    },
    "kernelspec": {
      "name": "python3",
      "display_name": "Python 3"
    }
  },
  "cells": [
    {
      "cell_type": "markdown",
      "metadata": {
        "id": "view-in-github",
        "colab_type": "text"
      },
      "source": [
        "<a href=\"https://colab.research.google.com/github/259mit/AI/blob/HOMEWORK/KnapSack.ipynb\" target=\"_parent\"><img src=\"https://colab.research.google.com/assets/colab-badge.svg\" alt=\"Open In Colab\"/></a>"
      ]
    },
    {
      "cell_type": "code",
      "metadata": {
        "id": "nxFCQmua7N5o",
        "colab_type": "code",
        "colab": {}
      },
      "source": [
        "# A Dynamic Programming based Python  \n",
        "# Program for 0-1 Knapsack problem \n",
        "# Returns the maximum value that can be put in a knapsack of capacity W \n",
        "# Binary knapsack problems are NP-Complete. 0 and 1 represent whether or not the weight will be included in the knapsack or not. \n",
        "\n",
        "def knapSack(values, weights, capacity):\n",
        "  # basic checks\n",
        "  n = len(values)\n",
        "  if capacity <= 0 or n == 0 or len(weights) != n:\n",
        "    return 0\n",
        "\n",
        "  dp = [[0 for x in range(capacity+1)] for y in range(n)]\n",
        "\n",
        "  # populate the capacity = 0 columns, with '0' capacity we have '0' value\n",
        "  for i in range(0, n):\n",
        "    dp[i][0] = 0\n",
        "\n",
        "  # if we have only one weight, we will take it if it is not more than the capacity\n",
        "  for c in range(0, capacity+1):\n",
        "    if weights[0] <= c:\n",
        "      dp[0][c] = values[0]\n",
        "\n",
        "  # process all sub-arrays for all the capacities\n",
        "  for i in range(1, n):\n",
        "    for c in range(1, capacity+1):\n",
        "      value1, value2 = 0, 0\n",
        "      # include the item, if it is not more than the capacity\n",
        "      if weights[i] <= c:\n",
        "        value1 = values[i] + dp[i - 1][c - weights[i]]\n",
        "      # exclude the item\n",
        "      value2 = dp[i - 1][c]\n",
        "      # take maximum\n",
        "      dp[i][c] = max(value1, value2)\n",
        "\n",
        "  # maximum value will be at the bottom-right corner.\n",
        "  return dp[n - 1][capacity]\n",
        "\n",
        "  \n",
        "# Driver program to test above function \n",
        "val = [60, 100, 120]                         # Values of the above given weights\n",
        "wt = [10, 20, 30]                            # Weights in the problem statement\n",
        "capacity = 50                                       # Maximum Weight Supported /Allowed \n",
        "print(knapSack(val, wt, capacity))               # Prints the optimal result which maximizes the objectives of the problem"
      ],
      "execution_count": null,
      "outputs": []
    }
  ]
}