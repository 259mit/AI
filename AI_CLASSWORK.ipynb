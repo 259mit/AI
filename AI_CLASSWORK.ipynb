{
  "nbformat": 4,
  "nbformat_minor": 0,
  "metadata": {
    "colab": {
      "name": "AI CLASSWORK",
      "provenance": []
    },
    "kernelspec": {
      "name": "python3",
      "display_name": "Python 3"
    }
  },
  "cells": [
    {
      "cell_type": "code",
      "metadata": {
        "id": "AEvVjmyrG9Lc",
        "colab_type": "code",
        "colab": {}
      },
      "source": [
        "#list\n",
        "a=[1, 2, 3, 4, 5, 'human']\n",
        "type(a)"
      ],
      "execution_count": null,
      "outputs": []
    },
    {
      "cell_type": "code",
      "metadata": {
        "id": "hpqPysHAHCbT",
        "colab_type": "code",
        "colab": {}
      },
      "source": [
        "#tuple\n",
        "b=(1, 2, 3, 4, 5, 'human') # immutable\n",
        "type(b)\n"
      ],
      "execution_count": null,
      "outputs": []
    },
    {
      "cell_type": "code",
      "metadata": {
        "id": "LV6MC8EPHEDm",
        "colab_type": "code",
        "colab": {}
      },
      "source": [
        "#set\n",
        "d={1, 2, 3, 4, 5, 'human'} # only distinct elements\n",
        "type(d)\n"
      ],
      "execution_count": null,
      "outputs": []
    },
    {
      "cell_type": "code",
      "metadata": {
        "id": "FWtOvjEFHFOr",
        "colab_type": "code",
        "colab": {}
      },
      "source": [
        "#dictionary\n",
        "e={'list': [1, 2, 3, 4, 5, 'human'],\n",
        "     'tuple': (1, 2, 3, 4, 5, 'human'),\n",
        "     'set': {1, 2, 3, 4, 5, 'human'}}\n",
        "type(e)     \n",
        "f=[[1, 2, 3, 4, 5, 'human'], [2, 3, 4, 5, 'human'], [3, 4, 5, 'human']]\n",
        "g={[1, 2, 3, 4, 5, 'human'], [2, 3, 4, 5, 'human'], [3, 4, 5, 'human']} # error\n",
        "h={-1,2,3,4,5,6,7}\n",
        "h.pop()"
      ],
      "execution_count": null,
      "outputs": []
    }
  ]
}