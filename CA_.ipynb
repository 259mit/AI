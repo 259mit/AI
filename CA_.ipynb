{
  "nbformat": 4,
  "nbformat_minor": 0,
  "metadata": {
    "colab": {
      "name": "CA LAB5 J002.ipynb",
      "provenance": [],
      "collapsed_sections": []
    },
    "kernelspec": {
      "display_name": "Python 3",
      "language": "python",
      "name": "python3"
    }
  },
  "cells": [
    {
      "cell_type": "code",
      "metadata": {
        "id": "RsB77fkJiAka"
      },
      "source": [
        "import math\n",
        "import numpy as np\n",
        "import h5py\n",
        "import matplotlib.pyplot as plt\n",
        "import scipy\n",
        "from PIL import Image\n",
        "from scipy import ndimage\n",
        "import tensorflow as tf\n",
        "from tensorflow.python.framework import ops\n",
        "%matplotlib inline\n",
        "np.random.seed(1)"
      ],
      "execution_count": null,
      "outputs": []
    },
    {
      "cell_type": "code",
      "metadata": {
        "id": "soBpeNjGiuIV"
      },
      "source": [
        "import math\n",
        "import numpy as np\n",
        "import h5py\n",
        "import matplotlib.pyplot as plt\n",
        "import tensorflow as tf\n",
        "from tensorflow.python.framework import ops\n",
        "\n",
        "def load_dataset():\n",
        "    !wget  http://upscfever.com/upsc-fever/en/data/deeplearning2/images/train_signs.h5  -P drive/app\n",
        "    train_dataset = h5py.File('drive/app/train_signs.h5', \"r\")\n",
        "    train_set_x_orig = np.array(train_dataset[\"train_set_x\"][:]) # your train set features\n",
        "    train_set_y_orig = np.array(train_dataset[\"train_set_y\"][:]) # your train set labels\n",
        "\n",
        "    !wget  http://upscfever.com/upsc-fever/en/data/deeplearning2/images/test_signs.h5  -P drive/app\n",
        "    test_dataset = h5py.File('drive/app/test_signs.h5', \"r\")\n",
        "    test_set_x_orig = np.array(test_dataset[\"test_set_x\"][:]) # your test set features\n",
        "    test_set_y_orig = np.array(test_dataset[\"test_set_y\"][:]) # your test set labels\n",
        "\n",
        "    classes = np.array(test_dataset[\"list_classes\"][:]) # the list of classes\n",
        "    \n",
        "    train_set_y_orig = train_set_y_orig.reshape((1, train_set_y_orig.shape[0]))\n",
        "    test_set_y_orig = test_set_y_orig.reshape((1, test_set_y_orig.shape[0]))\n",
        "    \n",
        "    return train_set_x_orig, train_set_y_orig, test_set_x_orig, test_set_y_orig, classes\n",
        "\n",
        "\n",
        "def random_mini_batches(X, Y, mini_batch_size = 64, seed = 0):\n",
        "    \"\"\"\n",
        "    Creates a list of random minibatches from (X, Y)\n",
        "    \n",
        "    Arguments:\n",
        "    X -- input data, of shape (input size, number of examples) (m, Hi, Wi, Ci)\n",
        "    Y -- true \"label\" vector (containing 0 if cat, 1 if non-cat), of shape (1, number of examples) (m, n_y)\n",
        "    mini_batch_size - size of the mini-batches, integer\n",
        "    seed -- this is only for the purpose of grading, so that you're \"random minibatches are the same as ours.\n",
        "    \n",
        "    Returns:\n",
        "    mini_batches -- list of synchronous (mini_batch_X, mini_batch_Y)\n",
        "    \"\"\"\n",
        "    \n",
        "    m = X.shape[0]                  # number of training examples\n",
        "    mini_batches = []\n",
        "    np.random.seed(seed)\n",
        "    \n",
        "    # Step 1: Shuffle (X, Y)\n",
        "    permutation = list(np.random.permutation(m))\n",
        "    shuffled_X = X[permutation,:,:,:]\n",
        "    shuffled_Y = Y[permutation,:]\n",
        "\n",
        "    # Step 2: Partition (shuffled_X, shuffled_Y). Minus the end case.\n",
        "    num_complete_minibatches = math.floor(m/mini_batch_size) # number of mini batches of size mini_batch_size in your partitionning\n",
        "    for k in range(0, num_complete_minibatches):\n",
        "        mini_batch_X = shuffled_X[k * mini_batch_size : k * mini_batch_size + mini_batch_size,:,:,:]\n",
        "        mini_batch_Y = shuffled_Y[k * mini_batch_size : k * mini_batch_size + mini_batch_size,:]\n",
        "        mini_batch = (mini_batch_X, mini_batch_Y)\n",
        "        mini_batches.append(mini_batch)\n",
        "    \n",
        "    # Handling the end case (last mini-batch < mini_batch_size)\n",
        "    if m % mini_batch_size != 0:\n",
        "        mini_batch_X = shuffled_X[num_complete_minibatches * mini_batch_size : m,:,:,:]\n",
        "        mini_batch_Y = shuffled_Y[num_complete_minibatches * mini_batch_size : m,:]\n",
        "        mini_batch = (mini_batch_X, mini_batch_Y)\n",
        "        mini_batches.append(mini_batch)\n",
        "    \n",
        "    return mini_batches\n",
        "\n",
        "\n",
        "def convert_to_one_hot(Y, C):\n",
        "    Y = np.eye(C)[Y.reshape(-1)].T\n",
        "    return Y\n",
        "\n",
        "\n",
        "def forward_propagation_for_predict(X, parameters):\n",
        "    \"\"\"\n",
        "    Implements the forward propagation for the model: LINEAR -> RELU -> LINEAR -> RELU -> LINEAR -> SOFTMAX\n",
        "    \n",
        "    Arguments:\n",
        "    X -- input dataset placeholder, of shape (input size, number of examples)\n",
        "    parameters -- python dictionary containing your parameters \"W1\", \"b1\", \"W2\", \"b2\", \"W3\", \"b3\"\n",
        "                  the shapes are given in initialize_parameters\n",
        "    Returns:\n",
        "    Z3 -- the output of the last LINEAR unit\n",
        "    \"\"\"\n",
        "    \n",
        "    # Retrieve the parameters from the dictionary \"parameters\" \n",
        "    W1 = parameters['W1']\n",
        "    b1 = parameters['b1']\n",
        "    W2 = parameters['W2']\n",
        "    b2 = parameters['b2']\n",
        "    W3 = parameters['W3']\n",
        "    b3 = parameters['b3'] \n",
        "                                                           # Numpy Equivalents:\n",
        "    Z1 = tf.add(tf.matmul(W1, X), b1)                      # Z1 = np.dot(W1, X) + b1\n",
        "    A1 = tf.nn.relu(Z1)                                    # A1 = relu(Z1)\n",
        "    Z2 = tf.add(tf.matmul(W2, A1), b2)                     # Z2 = np.dot(W2, a1) + b2\n",
        "    A2 = tf.nn.relu(Z2)                                    # A2 = relu(Z2)\n",
        "    Z3 = tf.add(tf.matmul(W3, A2), b3)                     # Z3 = np.dot(W3,Z2) + b3\n",
        "    \n",
        "    return Z3\n",
        "\n",
        "def predict(X, parameters):\n",
        "    \n",
        "    W1 = tf.convert_to_tensor(parameters[\"W1\"])\n",
        "    b1 = tf.convert_to_tensor(parameters[\"b1\"])\n",
        "    W2 = tf.convert_to_tensor(parameters[\"W2\"])\n",
        "    b2 = tf.convert_to_tensor(parameters[\"b2\"])\n",
        "    W3 = tf.convert_to_tensor(parameters[\"W3\"])\n",
        "    b3 = tf.convert_to_tensor(parameters[\"b3\"])\n",
        "    \n",
        "    params = {\"W1\": W1,\n",
        "              \"b1\": b1,\n",
        "              \"W2\": W2,\n",
        "              \"b2\": b2,\n",
        "              \"W3\": W3,\n",
        "              \"b3\": b3}\n",
        "    \n",
        "    x = tf.placeholder(\"float\", [12288, 1])\n",
        "    \n",
        "    z3 = forward_propagation_for_predict(x, params)\n",
        "    p = tf.argmax(z3)\n",
        "    \n",
        "    sess = tf.Session()\n",
        "    prediction = sess.run(p, feed_dict = {x: X})\n",
        "        \n",
        "    return prediction\n",
        "\n"
      ],
      "execution_count": null,
      "outputs": []
    },
    {
      "cell_type": "markdown",
      "metadata": {
        "id": "rHHq5R3FiAkh"
      },
      "source": [
        "Run the next cell to load the \"SIGNS\" dataset you are going to use."
      ]
    },
    {
      "cell_type": "code",
      "metadata": {
        "id": "alDethRniAki",
        "colab": {
          "base_uri": "https://localhost:8080/"
        },
        "outputId": "8bd757ce-851a-4ee4-cdc9-89bf38f29286"
      },
      "source": [
        "# Loading the data (signs)\n",
        "X_train_orig, Y_train_orig, X_test_orig, Y_test_orig, classes = load_dataset()"
      ],
      "execution_count": null,
      "outputs": [
        {
          "output_type": "stream",
          "text": [
            "--2021-02-15 05:53:47--  http://upscfever.com/upsc-fever/en/data/deeplearning2/images/train_signs.h5\n",
            "Resolving upscfever.com (upscfever.com)... 172.67.193.2, 104.21.90.10, 2606:4700:3033::6815:5a0a, ...\n",
            "Connecting to upscfever.com (upscfever.com)|172.67.193.2|:80... connected.\n",
            "HTTP request sent, awaiting response... 301 Moved Permanently\n",
            "Location: https://upscfever.com/upsc-fever/en/data/deeplearning2/images/train_signs.h5 [following]\n",
            "--2021-02-15 05:53:47--  https://upscfever.com/upsc-fever/en/data/deeplearning2/images/train_signs.h5\n",
            "Connecting to upscfever.com (upscfever.com)|172.67.193.2|:443... connected.\n",
            "HTTP request sent, awaiting response... 200 OK\n",
            "Length: unspecified\n",
            "Saving to: ‘drive/app/train_signs.h5’\n",
            "\n",
            "train_signs.h5          [              <=>   ]  12.67M  4.10MB/s    in 3.1s    \n",
            "\n",
            "2021-02-15 05:53:51 (4.10 MB/s) - ‘drive/app/train_signs.h5’ saved [13281872]\n",
            "\n",
            "--2021-02-15 05:53:51--  http://upscfever.com/upsc-fever/en/data/deeplearning2/images/test_signs.h5\n",
            "Resolving upscfever.com (upscfever.com)... 172.67.193.2, 104.21.90.10, 2606:4700:3033::6815:5a0a, ...\n",
            "Connecting to upscfever.com (upscfever.com)|172.67.193.2|:80... connected.\n",
            "HTTP request sent, awaiting response... 301 Moved Permanently\n",
            "Location: https://upscfever.com/upsc-fever/en/data/deeplearning2/images/test_signs.h5 [following]\n",
            "--2021-02-15 05:53:52--  https://upscfever.com/upsc-fever/en/data/deeplearning2/images/test_signs.h5\n",
            "Connecting to upscfever.com (upscfever.com)|172.67.193.2|:443... connected.\n",
            "HTTP request sent, awaiting response... 200 OK\n",
            "Length: unspecified\n",
            "Saving to: ‘drive/app/test_signs.h5’\n",
            "\n",
            "test_signs.h5           [      <=>           ]   1.41M  1.04MB/s    in 1.4s    \n",
            "\n",
            "2021-02-15 05:53:54 (1.04 MB/s) - ‘drive/app/test_signs.h5’ saved [1477712]\n",
            "\n"
          ],
          "name": "stdout"
        }
      ]
    },
    {
      "cell_type": "code",
      "metadata": {
        "id": "3xd53G6TiAko",
        "colab": {
          "base_uri": "https://localhost:8080/",
          "height": 285
        },
        "outputId": "d8fb00d1-81b0-4037-f5a3-ecd2c3be2748"
      },
      "source": [
        "# Example of a picture\n",
        "index = 6\n",
        "plt.imshow(X_train_orig[index])\n",
        "print (\"y = \" + str(np.squeeze(Y_train_orig[:, index])))"
      ],
      "execution_count": null,
      "outputs": [
        {
          "output_type": "stream",
          "text": [
            "y = 2\n"
          ],
          "name": "stdout"
        },
        {
          "output_type": "display_data",
          "data": {
            "image/png": "[encoded data removed]",
            "text/plain": [
              "<Figure size 432x288 with 1 Axes>"
            ]
          },
          "metadata": {
            "tags": [],
            "needs_background": "light"
          }
        }
      ]
    },
    {
      "cell_type": "code",
      "metadata": {
        "id": "ttBGlwpiiAkv",
        "colab": {
          "base_uri": "https://localhost:8080/"
        },
        "outputId": "05d49f79-8466-4f5d-b92a-6c2a0ea6fe4e"
      },
      "source": [
        "X_train = X_train_orig/255.\n",
        "X_test = X_test_orig/255.\n",
        "Y_train = convert_to_one_hot(Y_train_orig, 6).T\n",
        "Y_test = convert_to_one_hot(Y_test_orig, 6).T\n",
        "print (\"number of training examples = \" + str(X_train.shape[0]))\n",
        "print (\"number of test examples = \" + str(X_test.shape[0]))\n",
        "print (\"X_train shape: \" + str(X_train.shape))\n",
        "print (\"Y_train shape: \" + str(Y_train.shape))\n",
        "print (\"X_test shape: \" + str(X_test.shape))\n",
        "print (\"Y_test shape: \" + str(Y_test.shape))\n",
        "conv_layers = {}"
      ],
      "execution_count": null,
      "outputs": [
        {
          "output_type": "stream",
          "text": [
            "number of training examples = 1080\n",
            "number of test examples = 120\n",
            "X_train shape: (1080, 64, 64, 3)\n",
            "Y_train shape: (1080, 6)\n",
            "X_test shape: (120, 64, 64, 3)\n",
            "Y_test shape: (120, 6)\n"
          ],
          "name": "stdout"
        }
      ]
    },
    {
      "cell_type": "code",
      "metadata": {
        "id": "6tjgSZpJiAkz"
      },
      "source": [
        "\n",
        "def create_placeholders(n_H0, n_W0, n_C0, n_y):\n",
        "    \"\"\"\n",
        "    Creates the placeholders for the tensorflow session.\n",
        "    \n",
        "    Arguments:\n",
        "    n_H0 -- scalar, height of an input image\n",
        "    n_W0 -- scalar, width of an input image\n",
        "    n_C0 -- scalar, number of channels of the input\n",
        "    n_y -- scalar, number of classes\n",
        "        \n",
        "    Returns:\n",
        "    X -- placeholder for the data input, of shape [None, n_H0, n_W0, n_C0] and dtype \"float\"\n",
        "    Y -- placeholder for the input labels, of shape [None, n_y] and dtype \"float\"\n",
        "    \"\"\"\n",
        "\n",
        "    ### START CODE HERE ### (≈2 lines)\n",
        "    X = tf.placeholder(tf.float32, shape=(None, n_H0, n_W0, n_C0))\n",
        "    Y = tf.placeholder(tf.float32, shape=(None, n_y))\n",
        "    ### END CODE HERE ###\n",
        "    \n",
        "    return X, Y"
      ],
      "execution_count": null,
      "outputs": []
    },
    {
      "cell_type": "code",
      "metadata": {
        "id": "oS5wgWvMFqD_",
        "colab": {
          "base_uri": "https://localhost:8080/"
        },
        "outputId": "6dfbc247-3442-41f3-8497-506f1f2075d4"
      },
      "source": [
        "import tensorflow.compat.v1 as tf\n",
        "tf.disable_v2_behavior()\n"
      ],
      "execution_count": null,
      "outputs": [
        {
          "output_type": "stream",
          "text": [
            "WARNING:tensorflow:From /usr/local/lib/python3.6/dist-packages/tensorflow/python/compat/v2_compat.py:96: disable_resource_variables (from tensorflow.python.ops.variable_scope) is deprecated and will be removed in a future version.\n",
            "Instructions for updating:\n",
            "non-resource variables are not supported in the long term\n"
          ],
          "name": "stdout"
        }
      ]
    },
    {
      "cell_type": "code",
      "metadata": {
        "id": "9PYMd7YwiAk1",
        "colab": {
          "base_uri": "https://localhost:8080/"
        },
        "outputId": "de413361-5d4e-4999-ada0-886d2d98a5f1"
      },
      "source": [
        "X, Y = create_placeholders(64, 64, 3, 6)\n",
        "print (\"X = \" + str(X))\n",
        "print (\"Y = \" + str(Y))"
      ],
      "execution_count": null,
      "outputs": [
        {
          "output_type": "stream",
          "text": [
            "X = Tensor(\"Placeholder:0\", shape=(?, 64, 64, 3), dtype=float32)\n",
            "Y = Tensor(\"Placeholder_1:0\", shape=(?, 6), dtype=float32)\n"
          ],
          "name": "stdout"
        }
      ]
    },
    {
      "cell_type": "markdown",
      "metadata": {
        "id": "-69kANdTiAk4"
      },
      "source": [
        "**Expected Output**\n",
        "\n",
        "<table> \n",
        "<tr>\n",
        "<td>\n",
        "    X = Tensor(\"Placeholder:0\", shape=(?, 64, 64, 3), dtype=float32)\n",
        "\n",
        "</td>\n",
        "</tr>\n",
        "<tr>\n",
        "<td>\n",
        "    Y = Tensor(\"Placeholder_1:0\", shape=(?, 6), dtype=float32)\n",
        "\n",
        "</td>\n",
        "</tr>\n",
        "</table>"
      ]
    },
    {
      "cell_type": "code",
      "metadata": {
        "id": "Ngj9PWSGiAk6"
      },
      "source": [
        "\n",
        "\n",
        "def initialize_parameters():\n",
        "    \"\"\"\n",
        "    Initializes weight parameters to build a neural network with tensorflow. The shapes are:\n",
        "                        W1 : [4, 4, 3, 8]\n",
        "                        W2 : [2, 2, 8, 16]\n",
        "    Returns:\n",
        "    parameters -- a dictionary of tensors containing W1, W2\n",
        "    \"\"\"\n",
        "    \n",
        "    tf.set_random_seed(1)                              # so that your \"random\" numbers match ours\n",
        "        \n",
        "    ### START CODE HERE ### (approx. 2 lines of code)\n",
        "    W1 = tf.get_variable(\"W1\", [4, 4, 3, 8], initializer=tf.contrib.layers.xavier_initializer(seed = 0))\n",
        "    W2 = tf.get_variable(\"W2\", [2, 2, 8, 16], initializer=tf.contrib.layers.xavier_initializer(seed = 0))\n",
        "    ### END CODE HERE ###\n",
        "\n",
        "    parameters = {\"W1\": W1,\n",
        "                  \"W2\": W2}\n",
        "    \n",
        "    return parameters"
      ],
      "execution_count": null,
      "outputs": []
    },
    {
      "cell_type": "code",
      "metadata": {
        "id": "OrCG3h5tGrXk"
      },
      "source": [
        "tf.reset_default_graph()\n",
        "with tf.Session() as sess_test:\n",
        "    parameters = initialize_parameters()\n",
        "    init = tf.global_variables_initializer()\n",
        "    sess_test.run(init)\n",
        "    print(\"W1 = \" + str(parameters[\"W1\"].eval()[1,1,1]))\n",
        "    print(\"W2 = \" + str(parameters[\"W2\"].eval()[1,1,1]))"
      ],
      "execution_count": null,
      "outputs": []
    },
    {
      "cell_type": "markdown",
      "metadata": {
        "id": "iLDSWmH6GvWU"
      },
      "source": [
        "W1 = [ 0.00131723  0.14176141 -0.04434952  0.09197326  0.14984085 -0.03514394\n",
        " -0.06847463  0.05245192]\n",
        "W2 = [-0.08566415  0.17750949  0.11974221  0.16773748 -0.0830943  -0.08058\n",
        " -0.00577033 -0.14643836  0.24162132 -0.05857408 -0.19055021  0.1345228\n",
        " -0.22779644 -0.1601823  -0.16117483 -0.10286498]"
      ]
    },
    {
      "cell_type": "code",
      "metadata": {
        "id": "EzJsXH-aiAlC"
      },
      "source": [
        "\n",
        "def forward_propagation(X, parameters):\n",
        "    \"\"\"\n",
        "    Implements the forward propagation for the model:\n",
        "    CONV2D -> RELU -> MAXPOOL -> CONV2D -> RELU -> MAXPOOL -> FLATTEN -> FULLYCONNECTED\n",
        "    \n",
        "    Arguments:\n",
        "    X -- input dataset placeholder, of shape (input size, number of examples)\n",
        "    parameters -- python dictionary containing your parameters \"W1\", \"W2\"\n",
        "                  the shapes are given in initialize_parameters\n",
        "\n",
        "    Returns:\n",
        "    Z3 -- the output of the last LINEAR unit\n",
        "    \"\"\"\n",
        "    \n",
        "    # Retrieve the parameters from the dictionary \"parameters\" \n",
        "    W1 = parameters['W1']\n",
        "    W2 = parameters['W2']\n",
        "    \n",
        "    ### START CODE HERE ###\n",
        "    # CONV2D: stride of 1, padding 'SAME'\n",
        "    Z1 = tf.nn.conv2d(X, W1, strides = [1,1,1,1], padding = 'SAME')\n",
        "    # RELU\n",
        "    A1 = tf.nn.relu(Z1)\n",
        "    # MAXPOOL: window 8x8, sride 8, padding 'SAME'\n",
        "    P1 = tf.nn.max_pool(A1, ksize = [1,8,8,1], strides = [1,8,8,1], padding = 'SAME')\n",
        "    # CONV2D: filters W2, stride 1, padding 'SAME'\n",
        "    Z2 = tf.nn.conv2d(P1, W2, strides = [1,1,1,1], padding = 'SAME')\n",
        "    # RELU\n",
        "    A2 = tf.nn.relu(Z2)\n",
        "    # MAXPOOL: window 4x4, stride 4, padding 'SAME'\n",
        "    P2 = tf.nn.max_pool(A2, ksize = [1,4,4,1], strides = [1,4,4,1], padding = 'SAME')\n",
        "    # FLATTEN\n",
        "    P2 = tf.contrib.layers.flatten(P2)\n",
        "    # FULLY-CONNECTED without non-linear activation function (not not call softmax).\n",
        "    # 6 neurons in output layer. Hint: one of the arguments should be \"activation_fn=None\" \n",
        "    Z3 = tf.contrib.layers.fully_connected(P2, 6, activation_fn = None)\n",
        "    ### END CODE HERE ###\n",
        "\n",
        "    return Z3\n",
        "\n",
        "tf.compat.v1.reset_default_graph()\n",
        "with tf.Session() as sess:\n",
        "    np.random.seed(1)\n",
        "    X, Y = create_placeholders(64, 64, 3, 6)\n",
        "    parameters = initialize_parameters()\n",
        "    Z3 = forward_propagation(X, parameters)\n",
        "    init = tf.global_variables_initializer()\n",
        "    sess.run(init)\n",
        "    a = sess.run(Z3, {X: np.random.randn(2,64,64,3), Y: np.random.randn(2,6)})\n",
        "    print(\"Z3 = \" + str(a))\n"
      ],
      "execution_count": null,
      "outputs": []
    },
    {
      "cell_type": "markdown",
      "metadata": {
        "id": "xAiQTc63HmaM"
      },
      "source": [
        "\n",
        "Z3 = [[ 1.4416984 -0.24909686 5.4504986 -0.26189622 -0.20669895 1.3654672 ]\n",
        "[ 1.4070847 -0.02573191 5.08928 -0.486699 -0.40940708 1.2624857 ]]"
      ]
    },
    {
      "cell_type": "markdown",
      "metadata": {
        "id": "EcRY352riAlI"
      },
      "source": [
        "**Expected Output**:\n",
        "\n",
        "<table> \n",
        "    <td> \n",
        "    Z3 =\n",
        "    </td>\n",
        "    <td>\n",
        "    Z3 = [[ 1.4416984  -0.24909686  5.4504986  -0.26189622 -0.20669895  1.3654672 ]<br/>\n",
        " [ 1.4070847  -0.02573191  5.08928    -0.486699   -0.40940708  1.2624857 ]]\n",
        "    </td>\n",
        "</table>"
      ]
    },
    {
      "cell_type": "code",
      "metadata": {
        "id": "Gjoz6JeuiAlK"
      },
      "source": [
        "\n",
        "def compute_cost(Z3, Y):\n",
        "    \"\"\"\n",
        "    Computes the cost\n",
        "    \n",
        "    Arguments:\n",
        "    Z3 -- output of forward propagation (output of the last LINEAR unit), of shape (6, number of examples)\n",
        "    Y -- \"true\" labels vector placeholder, same shape as Z3\n",
        "    \n",
        "    Returns:\n",
        "    cost - Tensor of the cost function\n",
        "    \"\"\"\n",
        "    \n",
        "    ### START CODE HERE ### (1 line of code)\n",
        "    cost = tf.reduce_mean(tf.nn.softmax_cross_entropy_with_logits(logits = Z3, labels = Y))\n",
        "    ### END CODE HERE ###\n",
        "    \n",
        "    return cost\n",
        "\n",
        "tf.reset_default_graph()\n",
        "\n",
        "with tf.Session() as sess:\n",
        "    np.random.seed(1)\n",
        "    X, Y = create_placeholders(64, 64, 3, 6)\n",
        "    parameters = initialize_parameters()\n",
        "    Z3 = forward_propagation(X, parameters)\n",
        "    cost = compute_cost(Z3, Y)\n",
        "    init = tf.global_variables_initializer()\n",
        "    sess.run(init)\n",
        "    a = sess.run(cost, {X: np.random.randn(4,64,64,3), Y: np.random.randn(4,6)})\n",
        "    print(\"cost = \" + str(a))"
      ],
      "execution_count": null,
      "outputs": []
    },
    {
      "cell_type": "markdown",
      "metadata": {
        "id": "0nL1tV06H5mC"
      },
      "source": [
        "cost = 4.66487"
      ]
    },
    {
      "cell_type": "markdown",
      "metadata": {
        "id": "GA88t1NhiAlR"
      },
      "source": [
        "**Expected Output**: \n",
        "\n",
        "<table>\n",
        "    <td> \n",
        "    cost =\n",
        "    </td> \n",
        "    \n",
        "    <td> \n",
        "     4.66487\n",
        "    </td> \n",
        "</table>"
      ]
    },
    {
      "cell_type": "code",
      "metadata": {
        "id": "lwhn34FRiAlV"
      },
      "source": [
        "\n",
        "def model(X_train, Y_train, X_test, Y_test, learning_rate = 0.009,\n",
        "          num_epochs = 100, minibatch_size = 64, print_cost = True):\n",
        "    \"\"\"\n",
        "    Implements a three-layer ConvNet in Tensorflow:\n",
        "    CONV2D -> RELU -> MAXPOOL -> CONV2D -> RELU -> MAXPOOL -> FLATTEN -> FULLYCONNECTED\n",
        "    \n",
        "    Arguments:\n",
        "    X_train -- training set, of shape (None, 64, 64, 3)\n",
        "    Y_train -- test set, of shape (None, n_y = 6)\n",
        "    X_test -- training set, of shape (None, 64, 64, 3)\n",
        "    Y_test -- test set, of shape (None, n_y = 6)\n",
        "    learning_rate -- learning rate of the optimization\n",
        "    num_epochs -- number of epochs of the optimization loop\n",
        "    minibatch_size -- size of a minibatch\n",
        "    print_cost -- True to print the cost every 100 epochs\n",
        "    \n",
        "    Returns:\n",
        "    train_accuracy -- real number, accuracy on the train set (X_train)\n",
        "    test_accuracy -- real number, testing accuracy on the test set (X_test)\n",
        "    parameters -- parameters learnt by the model. They can then be used to predict.\n",
        "    \"\"\"\n",
        "    \n",
        "    ops.reset_default_graph()                         # to be able to rerun the model without overwriting tf variables\n",
        "    tf.set_random_seed()                             # to keep results consistent (tensorflow seed)\n",
        "    seed = 3                                          # to keep results consistent (numpy seed)\n",
        "    (m, n_H0, n_W0, n_C0) = X_train.shape             \n",
        "    n_y = Y_train.shape[1]                            \n",
        "    costs = []                                        # To keep track of the cost\n",
        "    \n",
        "    # Create Placeholders of the correct shape\n",
        "    ### START CODE HERE ### (1 line)\n",
        "    X, Y = create_placeholders(n_H0,n_W0,n_C0,n_y)\n",
        "    ### END CODE HERE ###\n",
        "\n",
        "    # Initialize parameters\n",
        "    ### START CODE HERE ### (1 line)\n",
        "    parameters = initialize_parameters()\n",
        "    ### END CODE HERE ###\n",
        "    \n",
        "    # Forward propagation: Build the forward propagation in the tensorflow graph\n",
        "    ### START CODE HERE ### (1 line)\n",
        "    Z3 = forward_propagation(X,parameters)\n",
        "    ### END CODE HERE ###\n",
        "    \n",
        "    # Cost function: Add cost function to tensorflow graph\n",
        "    ### START CODE HERE ### (1 line)\n",
        "    cost = compute_cost(Z3,Y)\n",
        "    ### END CODE HERE ###\n",
        "    \n",
        "    # Backpropagation: Define the tensorflow optimizer. Use an AdamOptimizer that minimizes the cost.\n",
        "    ### START CODE HERE ### (1 line)\n",
        "    optimizer = tf.train.AdamOptimizer(learning_rate=learning_rate).minimize(cost)\n",
        "    ### END CODE HERE ###\n",
        "    \n",
        "    # Initialize all the variables globally\n",
        "    init = tf.global_variables_initializer()\n",
        "     \n",
        "    # Start the session to compute the tensorflow graph\n",
        "    with tf.Session() as sess:\n",
        "        \n",
        "        # Run the initialization\n",
        "        sess.run(init)\n",
        "        \n",
        "        # Do the training loop\n",
        "        for epoch in range(num_epochs):\n",
        "\n",
        "            minibatch_cost = 0.\n",
        "            num_minibatches = int(m / minibatch_size) # number of minibatches of size minibatch_size in the train set\n",
        "            seed = seed + 1\n",
        "            minibatches = random_mini_batches(X_train, Y_train, minibatch_size, seed)\n",
        "\n",
        "            for minibatch in minibatches:\n",
        "\n",
        "                # Select a minibatch\n",
        "                (minibatch_X, minibatch_Y) = minibatch\n",
        "                # IMPORTANT: The line that runs the graph on a minibatch.\n",
        "                # Run the session to execute the optimizer and the cost, the feedict should contain a minibatch for (X,Y).\n",
        "                ### START CODE HERE ### (1 line)\n",
        "                _ , temp_cost = sess.run([optimizer,cost],feed_dict={X:minibatch_X,Y:minibatch_Y})\n",
        "                ### END CODE HERE ###\n",
        "                \n",
        "                minibatch_cost += temp_cost / num_minibatches\n",
        "                \n",
        "\n",
        "            # Print the cost every epoch\n",
        "            if print_cost == True and epoch % 5 == 0:\n",
        "                print (\"Cost after epoch %i: %f\" % (epoch, minibatch_cost))\n",
        "            if print_cost == True and epoch % 1 == 0:\n",
        "                costs.append(minibatch_cost)\n",
        "        \n",
        "        \n",
        "        # plot the cost\n",
        "        plt.plot(np.squeeze(costs))\n",
        "        plt.ylabel('cost')\n",
        "        plt.xlabel('iterations (per tens)')\n",
        "        plt.title(\"Learning rate =\" + str(learning_rate))\n",
        "        plt.show()\n",
        "\n",
        "        # Calculate the correct predictions\n",
        "        predict_op = tf.argmax(Z3, 1)\n",
        "        correct_prediction = tf.equal(predict_op, tf.argmax(Y, 1))\n",
        "        \n",
        "        # Calculate accuracy on the test set\n",
        "        accuracy = tf.reduce_mean(tf.cast(correct_prediction, \"float\"))\n",
        "        print(accuracy)\n",
        "        train_accuracy = accuracy.eval({X: X_train, Y: Y_train})\n",
        "        test_accuracy = accuracy.eval({X: X_test, Y: Y_test})\n",
        "        print(\"Train Accuracy:\", train_accuracy)\n",
        "        print(\"Test Accuracy:\", test_accuracy)\n",
        "                \n",
        "        return train_accuracy, test_accuracy, parameters"
      ],
      "execution_count": null,
      "outputs": []
    },
    {
      "cell_type": "code",
      "metadata": {
        "id": "cLPZyEUfLU8a"
      },
      "source": [
        "_, _, parameters = model(X_train, Y_train, X_test, Y_test)"
      ],
      "execution_count": null,
      "outputs": []
    },
    {
      "cell_type": "markdown",
      "metadata": {
        "id": "mu-dQl2OLZHO"
      },
      "source": [
        "Cost after epoch 0: 1.917929\n",
        "\n",
        "Cost after epoch 5: 1.506757\n",
        "\n",
        "Cost after epoch 10: 0.955359\n",
        "\n",
        "Cost after epoch 15: 0.845802\n",
        "\n",
        "Cost after epoch 20: 0.701174\n",
        "\n",
        "Cost after epoch 25: 0.571977\n",
        "\n",
        "Cost after epoch 30: 0.518435\n",
        "\n",
        "Cost after epoch 35: 0.495806\n",
        "\n",
        "Cost after epoch 40: 0.429827\n",
        "\n",
        "Cost after epoch 45: 0.407291\n",
        "\n",
        "Cost after epoch 50: 0.366394\n",
        "\n",
        "Cost after epoch 55: 0.376922\n",
        "\n",
        "Cost after epoch 60: 0.299491\n",
        "\n",
        "Cost after epoch 65: 0.338870\n",
        "\n",
        "Cost after epoch 70: 0.316400\n",
        "\n",
        "Cost after epoch 75: 0.310413\n",
        "\n",
        "Cost after epoch 80: 0.249549\n",
        "\n",
        "Cost after epoch 85: 0.243457\n",
        "\n",
        "Cost after epoch 90: 0.200031\n",
        "\n",
        "Cost after epoch 95: 0.175452\n"
      ]
    },
    {
      "cell_type": "markdown",
      "metadata": {
        "id": "aEe5SiAPL6on"
      },
      "source": [
        "![image.png](data:image/png;base64,iVBORw0KGgoAAAANSUhEUgAAAYwAAAEWCAYAAAB1xKBvAAAgAElEQVR4Ae2dCZgcVb32Xy/IvVdEr8Ll6qeOEAUFVBRUFhXlXpeAihuIoCiIIHpx/VATQgghLLJvCWEJq4QkYNiyTCaZLCSTfbLPZJnsG9n3PZnJuc9bc2o4U9Pd093TVV3V/Z7n6aerTlWd5Xeqz9tn+x9ATgREQAREQAREQAREQAREQAREQAREQAREQAREQAREQAREQAREQAREQAREQAREQAREQAREQAREQAREQAREQAREQAREoMwIVAL4RZnlWdkVAREQgUQRWAHg64lKcfiJHQfgV+FHg38F8DSAnQDWA/hzO3FeDmAlgD0AXgPwfuf+9sL6LoA6ALsBTAJwqvOsDkVABEQgKwJRCMaRWaUkmpuySUtUgnEngAkA3gfgFCsandNgOA3ALgDnAXg3gBcBDHTuzRTWSVaUvgyA+e8KYIk9doLQoQiIgAhkJpBJML4DYDaA7fZf6WecoLoAWGorsfkAfuBcuxLARAAPANgC4DYA9KsBcC+AbQCWA7jAecatpNu790QA423c1QD6AHjBCcs9/BqANQD+Zivkf9gKeiiATTYtPP6wfeh2AE0A9tt/472t/ycBjAKwFcAiAD92I8nz+C0A33SevTUgAs4l3GFFwvf7GICDAI6xHpnCuh7AcP9BAP8CYB+A/3H8dCgCIiAC7RJIJxifA7ARwFkAjrDjC7yXXR90lwD4f7byudR2k3zQXmOF3wjgd/Zf7L9bwTgE4Bob3m8AsJJ7h30mKBiZ7p1shecoAPzXzC6dTILBtNxl0860HAvgRwDeZSvcl20Xj00K3LTQ72gAqwFcZfNDNpszdOs8akWWQhv8zLWRsFVhAPyXH6lN0zzn3D183Yqe68cWx5lWADOFFRQMlicF8Q9uYDoWAREQgfYIpBOMvgB6BR7mP+uvBvz8U7ZEvmdPKBir/AuOH7tBfMfKmpXcB6yHW0nz+XT3Vlgx4vO+o1hkEgz+E/83/+YU35+1LQ3/kpsW+lEQ2XXkuscB9HA9cjz+iM2/m65vAGB5pHKjAVwXuLAWAFtQ7YXF1hHHPXgvRbY7gMO2ayoQpE5FQAREID2BdILBLoy9gX/IPL/MBvVzp7uK/6L5L/5qe40VPrukXEc/dkm5joLxcevhVtKZ7j3btnzccNh/n0kwWLG6jmLDCp8DyGyd8MO08J83nZsWnv/Vdv+4rQUOHlNU83V+C+N4J4CLAWRqYTAdrmMa3BZGprAYNge92UX4kD2+wg1MxyIgAiLQHoF0gsEKtVuahz8K4IDtDvIrWbYw/JlFqSr8VH75CAbjpjjl0sLgGIbr+A+bouC3btjCYFr8AfGxTl74HEWS4xfZusfs+Acr9OCn3gmEXXJsVfiOLTp3INv35zfHMPo7HqnGMLIN6z9sutjykBMBERCBrAlQMDj4zK4R/8OK8/O2355jGBxnYD/+t22fP6dksg/8E/ZfOfv2WYlHIRjM2BQAd9vulXMA7GinhREUDD7LdR/ML6emvhoQDFbarKB9x4Fltkb4j/yd9vMFO7PJvyef778DeDOHWVJsCX3FlkVwllR7YbElQnH/TwAvBQbQ80m7nhEBEShDAhQM/rt2P5zVRMcpntNtt9Q6ABwc9mflcDYRZwxx8Pd+W/FFJRj8d80xBQ76sm//CQBP2TQHv/xZUq4/B+vZwuC//wYAvw4IBkWI/pzN9bB9kOI4zM6sYrfOGABsmXTEuWsnNqRYh8H0USB8x3UYHBvieAQHwdOtw0gVFrsDyYtlxtYj/wDIiYAIiEDZERgEoGfZ5VoZFgEREAERaJcAu4PYyuB6AraC2D3Gqa5yIiACIiACItCKAM1ccF0EZ22x64hjKHIiIAIhEOCcbc4C4epczthItXiHg5zsu+VceC40OsNJB//RcT4+r3G1r5wIiIAIiECJEuBqXF8AOIDJf2hBQ2QX2lkkFA7Oe59qWXCWBc1BdLIzVOakeLZEsSlbIiACIiACnG3hzt8mEc6i8Bdo8ZwtCgoNZ49UOchoxIyfjO7YY481Z555pj5ioHdA74DegSzfATsjL2PdGvXFE+w0vfcEIqYxNtro8R2nLnJePleL9vM97bx03zib4+0dXguglp+KigojJwIiIAIikD0BW38G69WindNE8gwAP0yRgkIIRkuwbF3IiYAIiIAIZE8gToLB1arsWkq3YUtBu6QkGNm/JLpTBERABEggLoLBgeznATzY0gRoe0ATEDSd4A96T7O30GTEMgDcj4BWLznozY1dMjoJhn4AIiACIpAbgbgIBscmqF6cLkuDcfxwVhRNJ/vmkykU3JSGM6JoPZPjF77jvZxZxWvpjNP593rfEozcXhTdLQIiIAJxEYxWlXkUJxIMvfwiIAIikBsBCUZuvHS3CIiACJQtAQlG2Ra9Mi4CIiACuRGQYOTGyzxU3WBmrNya41O6XQREQASST0CCkUMZbt970Jx1e7X56N+Gmj8OnGXWbd+Xw9O6VQREQASSTUCCkWP57d5/yNw9YoE56cbh5pTuleaWN+rM9OVbTFPT4RxD0u0iIAIikCwCEow8y2vl5j3mf/vP8ISDLY4v3DbKDJq+Ks/Q9JgIiIAIxJ+ABKODZbRz30Hz2qw15vt9ajzxWLxhZwdD1OMiIAIiEE8CEowClcumXfvN6T2rzA/61JhGdU8ViKqCEQERiBMBCUYBS2PwjNXegPgzNcsKGKqCEgEREIF4EJBgFLAcDh8+bK54aqo3GL56654ChqygREAERKD4BCQYBS4DCgVnT/22/4wCh6zgREAERKC4BCQYIfD/2z/neOMZbHHIiYAIiECpEJBghFCSL05d6Y1lrNi8O4TQFaQIiIAIFIeABCME7nVrt3uCwem2ciIgAiJQKgQkGCGU5MHGJvOJm4abW4fUhxC6ghQBERCB4hCQYITE/YePTjQ/enRiSKErWBEQARGInoAEIyTmPd+o91oZhxqbQopBwYqACIhAtAQkGCHx5vgFbUzVr90RUgwKVgREQASiJSDBCIn38k27PcEYMHVlSDEoWBEQARGIlkBcBONpABsB1KXZz/svAGbbD+9pAvB+e+8KAPPstdo0z7fxDntPb67B+MwtVabL4DnRlqhiEwEREIGQCMRFMM4DcEYGwXAr/O8CGON4UDCOc86zOgxbMFheP+s3xVzw4PiQik7BioAIiEC0BOIiGKzkT8hSMF4EcI2jCrEVjHtGLDSdug4zew80Rluqik0EREAEQiCQNMF4F4CtTncUdWO57Y6aAeBaR0hSHfI6u61qKyoqQsDZOsiR9eu9cYzaFVtaX9CZCIiACCSQQNIE41IAQwJK8CF7fjyAOQDYvdWui6JLasOOfZ5g9Jsgc+cJ/G0oySIgAgECSROMVwFcnkENbgFwQ4brLZeiEAyyPvuOavP7ATMD2HUqAiIgAskjkCTBeK/tjjq6pdYHeHyMPefxJACdnetpD6MSjGuem27Ov3ds8t4MpVgEREAEAgTiIhgDAKwDcAjAGgBXA7jOfvxK/0oAA/0T+93JdkOxK6oeQLfA9bSnUQnGHcPmm5O6DTdN2rY18OrpVAREIGkE4iIYaSv2sC5EJRjPT1rujWOs37Evae+G0isCIiACrQhIMFrhKPzJmIUbPMGYvlwzpQpPVyGKgAhESUCCETLtxRt2eYLxyszVIcek4EVABEQgXAISjHD5mn0HGz3BeLi6IeSYFLwIiIAIhEtAghEuXy/0z982yvzl5dkRxKQoREAERCA8AhKM8Ni2hPyDPjXmJ49PbjnXgQiIgAgkkYAEI4JS48K9L/19dAQxKQoREAERCI+ABCM8ti0h3z1igWeEULvvtSDRgQiIQAIJSDAiKDRuosTd91Zt2RNBbIpCBERABMIhIMEIh2urUGsWb/IEY+KSTa38dSICIiACSSIgwYigtFZu3uMJxqDpqyKITVGIgAiIQDgEJBjhcG0V6sHGJnNil6HmvqqFrfx1IgIiIAJJIiDBiKi0zr1ztPnjwFkRxaZoREAERKDwBCQYhWeaMsQfPzbJ/OjRiSmvyVMEREAEkkBAghFRKf150Gxz1u3VEcWmaERABESg8AQkGIVnmjLEB0YtMid0GWr2H2pMeV2eIiACIhB3AhKMiEron7WrvZlSSzfuiihGRSMCIiAChSUgwSgsz7ShTV22xROMcYs2pr1HF0RABEQgzgQkGBGVztptez3BeGHKiohiVDQiIAIiUFgCEozC8kwbWmPTYfPxG4eZO4cvSHuPLoiACIhAnAnERTCeBrARQF2aPby/BmAHgNn2c7NzX2cAiwAsAdDF8c94GNWe3m7hf/XuMea3/We4XjoWAREQgcQQiItgnAfgjHYEY2gKBTgCwFIAnQAcBWAOgFNT3NfGqxiC8bN+U8xFvWsS83IooSIgAiLgEoiLYLBCPyEPwTgHQJWjBl0B8NOuK4ZgdBk813y2Z5XLX8ciIAIikBgCSRKMrQDmAqgEcJpVhIsB9HPU4QoAvZ3z4OG1NsO1FRUVkRdSvwnLvIHvTbv2Rx63IhQBERCBjhJIimC8B8C7be1/IYDF9jhXwWgRkGK0MCY0WDPni2XmvKMvrp4XARGInkBSBKOlorcHKwAcByBRXVIbduzzWhjP1CyLvqQVowiIgAh0kEBSBOMDAN5hxeKLAFbZ8yMBLANwojPo7XdXBUWm1XkxWhiHDx82p/esMhzLkBMBERCBpBGIi2AMALAOwCEAawBcDeA6+2FFfz2AejsLagqAc53an11UDXa2VDfHP+NhMQSDL8clfWW1Nmk/EqVXBESgmUBcBCNj5R7GxWIJRrdX55pP9Rhh2NqQEwEREIEkEZBgRFxaz01a7o1jrNu+L+KYFZ0IiIAIdIyABKNj/HJ+evLSzZ5gyAhhzuj0gAiIQJEJSDAiLoAtuw94gvHk+KURx6zoREAERKBjBCQYHeOX19Nn9hplbnhpdl7P6iEREAERKBYBCUYRyF/2xGTZlCoCd0UpAiLQMQISjI7xy+vpHq/XmVO6V5qmJs2UygugHhIBESgKAQlGEbD3n7LSG8dYtWVPEWJXlCIgAiKQHwEJRn7cOvRU7Yrm7Vqr56/vUDh6WAREQASiJCDBiJK2jWv73oNeC6PP2MVFiF1RioAIiEB+BCQY+XHr8FNn31Ft/jhwVofDUQAiIAIiEBUBCUZUpAPxXPHUVHPBg+MDvjoVAREQgfgSkGAUqWxuG1pvTuo23BxsbCpSChStCIiACORGQIKRG6+C3T10zlveOMasVdsKFqYCEgEREIEwCUgwwqSbIez1djMlmQjJAEmXREAEYkVAglHE4vjKXWPMr5+vLWIKFLUIiIAIZE9AgpE9q4Lf+adBs8yZvUZqb4yCk1WAIiACYRCQYIRBNcsw/RXfyzbtzvIJ3SYCIiACxSMgwSgee9Owfqc38D1o+qoipkJRi4AIiEB2BCQY2XEK5S4aHzy9Z5X5y8sydR4KYAUqAiJQUAJxEYynAWwEUJdm/+6fApgLYB6ASQBOd+5bYf1n55KZYu3pHSy9q5+dZs6/d2zQW+ciIAIiEDsCudSxTh1d8MPzAJyRQTDOBfA+G+sFAKY6KaBgHOecZ3UYF8HoO26J1y21edf+2L0cSpAIiIAIuATiIhis5E/IIBiuCFA41joeiRYM33LtiLp1brnoWAREQARiRyCJgnEDgH6OYCwHwO6oGQCudfxTHfJ6LT8VFRWxKIz9hxo9EyE0FSInAiIgAnEmkDTBOB/AAgDHOmrwIXt8PIA5ANi91a6LS5cUX46L+0403+tdE+f3RGkTAREQAZMkwfgMgKUATs6gBrcAYAukXRcnwfh75QLzsa7DzN4DjXolRUAERCC2BJIiGBUAlgDg4LfrjgZwjPXgMWdQdXZvSHccJ8EYs3CDN/Bds3hTbF8UJUwEREAE4iIYAwCsA3AIwBoAVwO4zn5Y53PMYpsdq3Cnz3ay3VDsiqoH0C2dQAT94yQYO/cdNCd2GWruq1qoN1IEREAEYksgLoIRrM9DP4+TYPDtuOiRCeaSvpNi+6IoYSIgAiIgwYjJO3D7sPnmpBuHm30HNY4RkyJRMkRABAIEJBgBIMU6Hb1gvTeOMXGJxjGKVQaKVwREIDMBCUZmPpFd3WHHMe4fuSiyOBWRCIiACORCQIKRC62Q7/3OwxPMjx/TOEbImBW8CIhAngQkGHmCC+OxXkPqvVXfGscIg67CFAER6CgBCUZHCRbw+VH1zeMYk5duLmCoCkoEREAECkNAglEYjgUJZfveg+aELkPNg6MaChKeAhEBERCBQhKQYBSSZgHCuvCh8eayJyYXICQFIQIiIAKFJSDBKCzPDofW8416c3K34YZWbOVEQAREIE4EJBhxKg1jzJgFzXalquevj1nKlBwREIFyJxCGYFySwq5HKr8Ut0XnFTfTIP6LeLCxyXzu1pHmt/1n+F76FgEREIFYEAhDMGamqPZT+aW4LTqvuAoG34qbX5vnTa/lYj45ERABEYgLgUIKBvfafgTABgAPO59nAUyLTgqyiynOgjFr1TbPTMjAaSvj8p4oHSIgAiJQ0A2UTgfwCwAr7TeP+fkhAO7DHSsXZ8E4fPiwOf+eseYSrfrWT1QERCBGBArZwvAF4Z3+gRUK7pQXOxdnweD78XB1g9fKWLVlT4xeFyVFBESgnAmEIRjjALwHwPsBLAcwFcADcVOMuAsGheKjfxtqHhmtRXzl/ANV3kUgTgTCEIxZVhx+BaCnPZ4rwci92C/uO9Gcf+9Ywy4qOREQAREoNoEwBGMegA8CGAngCxKM/Iu4/5SVXitj3prt+QeiJ0VABESgQATCEAyuuWCLoq8VC+67PVgtjNxLbMvuA9rrO3dsekIERCAkAmEIRj7a8DSAjQDq0jz8DjtNd4kVozOc+zoDWASA17o4/hkP4z6G4Zc39/n+1gNv+qf6FgEREIGiEQhDMD4M4FUrABQBti7ol8mdB4AikE4wLgRQCYDCcbYdSGd4RwBYCoCtmKMAzAFwaqaI/GtJEYwn3lyq2VJF+3koYhEQAZdAGIIxCsBVAI60nysB0K89d0IGwXgcwGVOAGxRcJzkHABVjn9XAPy065IiGMs37fYE46kJy9xy07EIiIAIRE4gDMGYnaK2TuUXvC2TYAwF8GXngdEAPg/gYgD9HP8rAPR2ztMeJkUw+EZ8/b5x5iePy+R55L8ORSgCItCKQBiCwcr8Z7a7iF1GPKZfey4KwbjWZri2oqKiFYg4n9xVucB06jrMbNtzIM7JVNpEQARKnEAYgvFRAG8A2GTHMV4D8JH21AJAJsEo2y4pvn8zV271uqVembm6xF9HZU8ERCDOBMIQjOcCtqO44puzoNpzmQTj24FBb9+YIcdJlgE40Rn0Pq29iHg9SV1STU2HzRduG2V+80JtnN8lpU0ERKDECYQhGP5Kb7feTuXnXh8AYB2AQwDWALgawHX2w/s4O6qPnRHFhYEcv/AdZ1A12GvdfM/2vpMkGHwHuwyea07tXmm4iG/a8i2mZvEmw70z5ERABEQgKgJhCAantrrWadnCYCUfK5c0wRi7sHknPtqX8j9cCS4nAiIgAlERCEMwfg5gIYBe9sNjzl6KlUuaYNCe1Ii6daZy3ltmQsMm8+W7RpurnpkW1XuieERABESgoPthuILAxXPX209WC+nch6M4TppgBN/VW96oMyd3G272HmgMXtK5CIiACIRCIIwWRhT1fYfjSLpgsJXBrqnq+etDeTEUqAiIgAgECUgwgkQScn7gUJM3CN71lbkJSbGSKQIikHQCEowEl+B1/6g1Z91erf0yElyGSroIJImABCNJpRVI60vTV3ndUtovIwBGpyIgAqEQkGCEgjWaQDfu3G9O6DLUPFStbVyjIa5YRKC8CUgwEl7+3+tdYy7qXZPwXCj5IiACSSAgwUhCKWVI4yOjG7xuKbY25ERABEQgTAISjDDpRhB2/dodnmDcPWJBBLEpChEQgXImIMFIeOlzBfgfB87yROO+qoWaMZXw8lTyRSDOBCQYcS6dLNPW2HTY/PXlOZ5o9BpSb+rWbjcDpq40XKNxzXPTzU+fnGK+36fGDJwm21NZItVtIiACKQhIMFJASaIXTaD3eL3OEw3fOOGne4ww33rgTfODPjXeeo2z76g2vE9OBERABPIhIMHIh1pMn2H31JA5a81rs9aYZZt2t+qeoh+FZMrSzTFNvZIlAiIQdwISjLiXUIHSt+fAIfPJmyq9bqoCBalgREAEyoyABKOMCvx3L840p/esMrRDJScCIiACuRKQYORKLMH307Itu6VGL5CF2wQXo5IuAkUjIMEoGvroI2bLgi2M3w+YGX3kilEERCDxBCQYiS/C3DLAqbandK80HNOQEwEREIFcCEgwcqFVAvdOXrrZ65Z6ffbaEsiNsiACIhAlgTgJRmcAiwAsAdAlxZZ6fwEw237qADQBeL+9bwWAefZabYpn23glfce9fF8SrsPgeozLnpjcatptvuHpOREQgfIhEBfBOALAUgCdABwFYA6ATHuBfxfAGEcFKBjHOeftHparYPDV7jdhmdfKGFG3rnzedOVUBESgwwTiIhjnAKhyavmuAPhJ514EcI1zUYKRw6twqLHJWwF+7p2jzd4DjTk8qVtFQATKmUBcBONiAP0cAbgCQG/n3D18F4CtTncUry233VEzAFzr3hw45jV2WdVWVFSUc7l7K745xfbeqoVlzUGZFwERyJ5AEgXjUgBDAkLwIXt+vO3OOi9wvc1pOXdJ+a/HHwbMNCfdONws37Tb99K3CIiACKQlEBfByKVL6lUAl7dRgLc9bgFww9unqY8kGMZs2LHPnHbzCHPJY5PUNZX2J6ILIiACPoG4CMaRAJYBONEZ9D4tRVX/XtsddbRzjcfH2HMeTwLAGVcZnQSj+RV4deYab1/wHz82yeza37w2Y/f+Q+b2YfPN5U9ONq/MXC1TIv6vRd8iUOYE4iIYrNwvBNBgZ0t1s7X9dQD48d2VAAb6J/abM6s4q4qfegD+s4HbWp9KMN5+82nJtlPXYYb7g3N9xjl3VHuzqDgoznGOz982yjw2bomm4b6NTEciUJYE4iQYrWv0kM8kGK3f96q6dd54BgXim/e/aWpXbPH2zhi7cIO3ARP92eqgCXU5ERCB8iQgwSjPck+Z66nLtpjnJy03BxtbW7OlSHR/bZ7X2ugzdnHKZ+UpAiJQ+gQkGKVfxgXJIVeI0zw6Wxr9p2ir14JAVSAikDACEoyEFVgxk8uWxy+enuoNkj8/eUUxk6K4RUAEikBAglEE6EmOct/BRvPLZ6Z5LY2Hqhs0ppHkwlTaRSBHAhKMHIHpduONcfxp0CxPNHq8XucNjrtcNu7cb3oNqTcbdu5zvXUsAiKQcAISjIQXYLGSzzENigLHNK77R61hy4Nu3fZ95vx7x3r+d1UuKFbyFK8IiEAIBCQYIUAtlyA5e+rJ8Uu9MY3v96kx89ZsN+fdPcac2r3SfOP+cYbrODQNt1zeBuWzHAhIMMqhlEPOY+W8t8zJ3YZ7rYpP9RhhZqzcagbPWO2dcz2HnAiIQGkQkGCURjkWPRcUCc6gmrt6u5cWmhn5xE3DzU2vzit62pQAERCBwhCQYBSGo0JJQeB/+88wn7t1ZJuFgClulZcIiEACCEgwElBISU3iyPr1XrfUmAUbkpoFpVsERMAhIMFwYOiwsAQOHGoyn7mlynDfDboxCzeYCx4cb2gZ98FRDWba8i2msUm2qQpLXaGJQHgEJBjhsVXIxpgug+eYU7pXtpgV4ZTbbz883ptZ5U/J5RRdOREQgfgTkGDEv4wSncLJSzd73VIfv3GYeWDUIrP/UPN6jW17DnitDIrGbUPrE51HJV4EyoWABKNcSrpI+eQ6jBenrjQN63e2SQGv3Wyt4Mo2VRs88hCB2BGQYMSuSMorQRzDoG2qE7sM9Uyo3zl8gblnxEJvLUeQBFeTs2USdNxq9qkJy0y/CcvMMzXLDNeFyImACBSegASj8EwVYo4EuCXsZU9M9sY6Tuo23Bvf4BqOOau3tYS0dfcBb/U4p+mu2Ly7xZ/rPb5+3ziv24vdW/6HXWFyIiAChSUgwSgsT4VWAAI0Xvilv4/2toZdvXWPt9f4RY9M8HYE/HSPEZ6tqu17DnpmR2jHiq0TzsCiH1sbX7htlLmk7ySZJSlAWSgIEXAJSDBcGjqODQGOedDMCLeLvfTxSd6e49xGdsrSzYYD6D95fLI3iM4WxRNvLm2V7mcnLvdaGhMaNrXy14kIiEDHCMRJMDoDWARgCYAuKbb0/hqAHQBm28/Nzj3tPevc2nyoPb079uJE8XTN4k3mY12HeV1Ur85c0xLlP2ub7VRRLH4/YGablgRnYp19R7WhQUQZP2zBpgMR6DCBuAjGEQCWAugE4CgAcwCcGqjlKRhDA348zebZNo9JMDr87kQSwLhFGw1bFkH32Lgl5qpnppm9B5qn6QavvzBlhdfK0CrzIBmdi0D+BOIiGOcAqHJq9a4A+HFdOsHI5lk3HO9YgpH/S5OEJ7nKnOMg33l4gloZSSgwpTERBOIiGBcD6OfU6lcA6O2c85CCsRXAXACVAE6z17N51g/qWpvh2oqKikQUkBKZP4GXpq/yWhn/0P7j+UPUkyLgEEiSYLwHwLttzX8hgMV5CIYvHFALw3kLSvSQJkd+1m+K+eRNlWbpxl0lmktlSwSiIxAXwcinW2kFgOMA5POsBCO6d6yoMXHLWBpAvKh3jTnU2NQmLQcbmwwH1FMtCGxzszxEoMwJxEUwjgSwDMCJzqC33+Xktwo+AOAd9uSLAFbZ82ye9cNo+VYLo3ze/CFz1npdU7SQ6zqu27j8ycneNY517Nh30L2sYxEQgQCBuAgGK3J2MzXY2VLdbM1+HQB+6K4HUG9nUE0BcK7151eqZ53LbQ8lGIE3ocRPaWK9U9dh5voXZ5rq+Y7lUccAABM6SURBVOs921bn3zPWW9Nx65B6b/rujx6daPYcOFTiJJQ9EcifQJwEo22tHqKPBCP/lyaJT+7cd9CzVfXZnlVei4JrOHg8dVnznuND57zlrRhniyMoGlzLMXPlVrN51/6CZp3CxV0JaRolLLd+x76CpzustCrc+BOQYMS/jJTCAhLgdNtR9evNXZULzMrNe1qF7C8I5JhHryH1ZvGGneaVmavNhQ+N90Tmf+4bZ7bvLUy31YCpKz2BonDxOAxHw45fvXuMZ4OLYzVyItBRAhKMjhLU8yVFYPryLea3/Wd4XVSszPmhUNw3cpHnx1lXqQbPs4XA1srD1Q1euD9/aqpnOPG7j0zI9vGc7hu9oHmLXOaBlnzlRKCjBCQYHSWo50uSgG8ynUYN/R0BB05b6VX03V6d6y0GZGulfu2OnAbLOfDOCvxPA2cZ/uunOXaez1uzveAcKUg0xEiR+9TNIwyNOkblyIwbZi3eoOnMUTGPIh4JRhSUFUfJELhj2HyvgueAOe1csbI/6/Zqw+m7rlu+abcJGj8cPvct7/4/D5rdIkLs4qIp9y6D57qPd/iY606YNgrUko27vMH9G16a3eFwsw2gdsUWL/4rnpqa7SO6LwEEJBgJKCQlMT4E+M+ZW8r+4ump3jhI/ykrzWk3jzCdHxzvmWFnSicu3uT9o2eF/ceBs7xxj7q1270FhD/oU9OyTa2fq///0mxzavfKlud9/4583/JGnScSG3Y2C5kvdBy8j8L5OymSwdzVhW89RZEHxdGWgASjLRP5iEBOBN5ctNGbsssuoJdrV3sV9TfuH+cJCqfynnNHtfehBV2/AncjqF2x1fs3TvEphOOsK3ZB/e7FmS3BcaMpdk9d3Hdii19YBxzjObPXyOausB4jDPcskSsNAhKM0ihH5aLIBDjTif+m+eH+Hf5sqlmrtpmv3TPW63ZK90+bA+HfeuBN8+2Hx7fJBVs0HIinXayHqhtMj9frDMPM5Gg7i+lgt5DruI1tFP/4aZae8Qyb+5a5t2qhZ56eM87kkk9AgpH8MlQOYkLgyfFLDbuCuB+H67gXOQfRM7nnJzVv+vTjxyaZynnrDJ8ZPGO1NyWWla//4Ra23GGQFTEH3YOOQvWVu8Z44hPcC4Qr2dn1xTGUMN3f/jnHi4d52LL7gNcV96dBs8KMUmFHRECCERFoRSMCmQiwG4c7B55752hPHE66cbj3zR0HKRzcx5wVMCt9jnlQQLg+ZOG6t/+5U0C4EyF3JEy3p3n31+Z5W91uKvAiRD9vTAPXsXDsxndcSc+uuVVbWq978a/rOzkEJBjJKSultAwIUDjYwuC/dK4E96f0BrM+om6dOePWkV7l33vMYm+KLv/FU0i42DCd4zRX3vPI6NZ2tdLdn6s/08zwuQbEd5xBRgGkWRa5ZBOQYCS7/JT6MiZAUyVcZMgKmlN7+R00sJgKD9dlfPH2UZ7IpLqeix9bFBwzGd+w0TOpQptdbGEEu8s4/sL0cVxDLrkEJBjJLTulXAQ8AqyEz+w1ynQZPCer3QX9FeBvzF7bYYL+dF2KAdel8MN0BB0XKXJF++duHWnC6g4LxqnzwhOQYBSeqUIUgcgJpOu6SpUQ3nve3WO8gWl+f/2+cYYtA46R5OK4MJFC8deX5xjuvU77XFyot2DdjpTBNKzfaThof81z0z1h49oUdqcNmrYq57hTRiDP0AlIMEJHrAhEIH4EuLiQK79/P2Cm+dVz072Kn91brvBwqjCnBHP9xuk9q7xuLM4EY3cTu8Po/9/3jjV7D2QvNI+NW+LFxfEXio3/4boN2tjKZSOrNdv2mkHTV7UxIhk/2qWTIglG6ZSlciICeRPwK/I7hs83tHLb8416rzL/fp8abwCes6v8zaYoIlwAyIFsthJycQybrZlfP1/rrS2hfauJSzaZK5+e6sXHFk82XVYUPNdUPdex3D9ykaE5d7nwCEgwwmOrkEUgMQS4ZoNGFfmPn5Uvv7mmJGiZl8YYab2X19naKKSbtnyLt8DxokcmtNmTxI+H6aTlXU7TZTo4fZjnXL/C9SmcUsx1Jum6xfxw9J0fAQlGftz0lAiUHAGKwy+fmeZVxi9MWZE2fxzAnr1qW1YD7GkDSXOB03JZ8bPFERQrioXf8uE4CM2duI77m3Al/CndK73V5SPr357ay/vYuuFGWdxMSy4/AhKM/LjpKREoSQKspIOWd6POKG1qsQXDdRuuKPhTcykK7lhLMH0cB+Ee7Z/qMcLQajAd7//Ly80LHi/pO0mD7EFoWZ5LMLIEpdtEQASiI8DZUyd0GeqtfOd4hW86hYsTM4mFn0KuKudAPbvXOCjvt0w4wM9wr352epsWjP+svtMTiJNgdAawCMASAF1SbOf9UwBzAcwDMAnA6c49K6z/7GwzpD29078UuiICcSBA44kcYGdro7mSn5bTYsOxCzd4z51/b3MYbJmwW8sXH5pY4blc9gSyrV+dujmUwyMALAXQCcBRAOYAODUQ07kA3mf9LgAw1blOwTjOOW/3UIKR/UuiO0WgWATYOrh92HyveyrXdSJMM3f9o+BQHNyWCWdU0f+i3jWeKRZee2v7Xi8u7m9CG16vz17rjXukyjvHQ4JjLKnuKzW/uAjGOQCqnFq+KwB+0jkKx1rnogSj1N5M5UcECkCAQjBj5dY2FT9bFlxnQsu+FA4afeQMK86++s0LtS0zwbizIs2tcAB99dY9ZtKSzd7uiOzu4p4jXLTImVquGBUg2bENIi6CcTGAfo4AXAGgt3MePLwhcP9yAOyOmgHg2uDNzjmv1fJTUVER20JRwkRABKIhwFYCTaT89Mkp3gwr36IuBYBb6nKKL7vDKCr+h7OwuOCR4yk8pj9bJOUwlTeJgnE+gAUAjnWE4EP2+HjbnXWecy3lobqkovlBKhYRSDoB7mDIXRE51ZjTct2V7XsOHPLMz9OW18ndhnv3lPK4SFwEI9suqc/YsY6TU6pAs+ctANgCyegkGEn/GSv9IhAfAlyxTivAbG1wBtb8t1rb0+IKdO6nHqaYMA6/hRQWmbgIxpEAlgE40Rn0Pi1Q41fYGVQc/Hbd0QCOsR485gwqzrjK6CQYYb1SClcEypMAu7H6jlviGXWkcFz1zDTzdM0yb1Mrv1uL3VhuC8UltXbbXu9+2unK1XFjLdr2YrxfvXuMoSkXClShXVwEg5X7hQAabAuim63trwPADx3HOLbZsQp3+ixnVnFWFT/1APxn7WOpvyQYhX6VFJ4IiAAJcOEgFxn6tq44NZizsu4Z0by/eecHx3sGE9naoHjQHheFhKbhWeFzAD5XG10UCK6QZzxcJf+Jm5p3bKSp+e17CreyPU6CkbpmD8lXgqEftwiIQJgEOL6xdOOuVt1QYxZsMJ/uMcKbjcUZWRQIfjh4TttdNI3CzbA+eVOlN16STfpmrdrmDcxznYnvOO7C6ciMg+MrVXXr/Esd+pZgdAifHhYBERCB3AjQ5hWtAt89YoHpM3axN73XNeu+Yec+88NHJ3pCQvPxbH08N2m52bL7QJuIOMvrggfHe6bnU9nImrdmu/n2w+M94eCuiB11EoyOEtTzIiACIlBgAvsPNZrH31xirn52mtdCYCuEW99yphYXDdLxHn9hIqcAp3O0x0UTKbSttXjDznS3ZeUvwcgKk24SAREQgeIQ4FgH13hc+vgkr9VBw4rc2dAfp+CsrPZmX3HRIbumvnzXaG/zq3xzIsHIl5yeEwEREIEICVAUXpu1xhsU514gHLPgCnS2NLJxnDXFtSLc/CrbZ4LhSjCCRHQuAiIgAiVKYMictd4OitxmNx8nwciHmp4RAREQgTIkIMEow0JXlkVABEQgHwISjHyo6RkREAERKEMCEowyLHRlWQREQATyISDByIeanhEBERCBMiQgwSjDQleWRUAERCAfAhKMfKjpGREQAREoQwISjDIsdGVZBERABPIhIMHIh5qeEQEREIEyJFC2ggFgk828t8d3jscrcrw/nzji9kw55pllUI75Lsc8q6yBbOoc1ptyORIg2HJz5ZhnlnE55rsc86yyLrcaLcL8luMPqhzzrEokwh9VDKIqx3e8HPMc+atWjpDLMc8SjMh/WkWNsBzf8XLMc+Qv2bWRx1j8CMsxz6RejvkuxzyrrItfxygFIiACIiACIiACIiACIiACIiACIiACIiACIiACHSPQGcAiAEsAdOlYULF++iMAxgKYD6AewB9sat8PYBSAxfb7fbHORX6JOwLALABDyyjP/wHgnwAWAlgA4BwApV7Wf7Lvdh2AAQD+rUTz/DSAjQCYT99lKtuutn5jPfct/wF9506AFclSAJ0AHAVgDoBTcw8mEU98EMAZNqXHAGiweb3bEUoK5l2JyE1uifwzgBcdwSiHPD8H4FcWE99tCkgp5/tDAJYD+Heb55cAXFmieT7P/pZdwUhXtqzPWK/9K4ATbX3Hek8uDwL811XlPEcl5qcc3OsAvmFbVxQTOn7zX0gpuQ8DGA3gvx3BYB5LOc/vtZXnOwIFWcr5pmCsti2KI21Zf7OE3+8TAi2MdGUbrNNY37Hek8uDwMUA+jnPXQGgt3Neqod82VYBeA+A7U4mWcG4586lxB6yW+ZMAF9zBMPNYynm+bMApgF41nbF8R0/OlC2pZhvdrPutiaC+ts3tlTLOigY6fLJ+uxnzq/3KQCs9+TyIFCOgvFuADMA/NDycl80em3Lg2NcH/kOgEdt4tIJRqnlmfn5PIBGAGfZvD8EoFdAMEot3xx7GwPgPwG8E8BrtqIs1fc7k2C4ZSvBsD+CQnyVW5cUf0hskrJP33fpmrL+9SR/3wlgjTU2uB7AXgAvlHA3hV9WH7B59s+/AmBYief7EgD89+y7n9s/C6X6fgcFI10+1SXlvxEF+GZf5zI7GOQPep9WgHDjGAS7IJ4H8GAgcfcEBr05eFaKzm1hlEOeJwD4hC3IWwAwz6Wcb7amOPvvXQD4rnPQ/3clnOegYKQrW9Zn7qA36zsNeneghrvQzhjibKluHQgn7o9+GYABMBfAbPth3o+1g8KcVlttBw3jnpd80ucKRjnkmeMYtCnE8mb3DLtsSj3fPe00Ys4e+oedGVSKeeaU4XUADtkW9NXtlC3rNdZvbIVckM+PR8+IgAiIgAiIgAiIgAiIgAiIgAiIgAiIgAiIgAiIgAiIgAiIgAiIgAiIgAiIgAiIgAiIgAiIgAiIgAjEhcAkmxDOPb+8wIm6MRCeH1fAu2Cn3wdwc8FCax1QMC+tr+Z39mlrYiS/p/WUCIiACBSJgLuWItskcHFmJkfbQ1E6CtJxBYgwVb7CygvX51QUIM0KQgREQARCJ+BXhFMA7LCLDrn3AVescoXrdLtA7dc2JRQWrnR+wy7KpDcXr9GGFlcD+/tb/x1Akw3PN1bnx8XVwgybi8DmAbjUCXucs9cEn+O9dAyP+41wsdy91s/9OtnuSeL70TjgY3aBHc3N0/YVXS75so94cQfzQqNzNELIhZqPOyt8mcfb7QpgMv0vGwjNazC/XBk83g/Y7p3yV+dchyIgAiIQWwJ+JR5sYbDiv8mmmvb+ubKZNv953x577GeKG8zQcb8EVopcAUznh21PW85/ZDeUYuXNCpXWfWkSnWFTtGg2/V8ATAbAVfQMjytpffHg/hNBdxWA+xxPCsYIG85JdtUuN/3JJV9OcC1pp98pAIZYQ3w8pxFG2lei44r/79pjmoLxGVIYaSaczk3/l2xY9pK+REAERCC+BPxKPSgYNF3Of+a+qRNuoMM9EHgfdxd0He0p8Z8zP6zwz7YX/bD9e/3zBwD80ve0piYusmFzh0Lf9bVWUdlFxLC5GxotAdM2WdBxjMHd1ZGC4cbBf/U06ZFLvtw4/LTT73oAbzlsKGZkQHfAETa2nHwT/2ztMG/XOILK+ylmbJ3JiYAIiEDsCfgVYVAwBqfZcjJ4H89rrGE6ZpZdSvSj88O2py3nmQTD3+qVz9B8NHd2o2Mrh/a5KBo0tR107EbzK21eo2Cw1eE7CsbpALLNl/+c/+3mhYb3aK03lXPvo4l/psN3NOJ3q7V267fCOPBNfnIiIAIiEHsCfgXHjZDedFLLrhuOTdBsOx3HCLhRUFAwvud0qXwSwH5HMLj/h/88w/DjYiuBpuDZJcU9FlYCoNnwYNi+YHCfkeObkwHueLfFHrtf3D+e5tV9x4p6uO2S+ligSyqbfPnh+N9uXrg1Jw1K+mlil9xH7Y1+HnnqCgbT4DuOC7G1Q8fuObY+5ERABEQg9gT8Co4VO/+5s+uH/9Y5hnCHHZTmuAS7oVhZByt1/vOvBLDACozbwuAe5vTPZdA7VQuD4xscYOaAN8cCfpGCKk1vc9DdH+egYKQa9M42X8EognlhdxO765gmdiml6oZzBeMVhyU3XfLTSVH0xzyCcepcBERABEQgJAKsiL9uw6ZgsMKOs6PYciZVqmm8cU630iYCIiACiSfAGVccPKdLgmBwwNsf77HJ1pcIiIAIiIAIiIAIiIAIiIAIiIAIiIAIiIAIiIAIiIAIiIAIiIAIiIAIiIAIiIAIiIAIiIAIiIAIlCKB/wMv6n+3vrSKxwAAAABJRU5ErkJggg==)"
      ]
    },
    {
      "cell_type": "markdown",
      "metadata": {
        "id": "JFREZLI5LwQh"
      },
      "source": [
        "Tensor(\"Mean_1:0\", shape=(), dtype=float32)\n",
        "\n",
        "Train Accuracy: 0.940741\n",
        "\n",
        "Test Accuracy: 0.783333"
      ]
    }
  ]
}